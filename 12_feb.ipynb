{
 "cells": [
  {
   "cell_type": "markdown",
   "id": "0b679a5d-e07c-4e0a-866b-0955a5043d9a",
   "metadata": {},
   "source": [
    "Q1. What is an Exeption in python? Write the differene between Exeptions and syntax errors"
   ]
  },
  {
   "cell_type": "code",
   "execution_count": 1,
   "id": "056fc9a5-3af1-44ec-827f-12a23522233c",
   "metadata": {},
   "outputs": [
    {
     "data": {
      "text/plain": [
       "'\\non the other hand, are errors that occur when the interpreter cannot parse the code because of a violation of Python syntax rules. \\nSyntax errors prevent the program from running altogether, while exceptions occur during program execution\\nIn summary, syntax errors occur before the program runs, while exceptions occur during program execution.\\n'"
      ]
     },
     "execution_count": 1,
     "metadata": {},
     "output_type": "execute_result"
    }
   ],
   "source": [
    "#Exeptions\n",
    "'''\n",
    "In Python, an exception is an event that occurs during the execution of a program that disrupts the normal flow of instructions. When an exception occurs, \n",
    "the program stops running, and the interpreter generates an error message.\n",
    "'''\n",
    "#Syntax errors\n",
    "'''\n",
    "on the other hand, are errors that occur when the interpreter cannot parse the code because of a violation of Python syntax rules. \n",
    "Syntax errors prevent the program from running altogether, while exceptions occur during program execution\n",
    "In summary, syntax errors occur before the program runs, while exceptions occur during program execution.\n",
    "'''"
   ]
  },
  {
   "cell_type": "markdown",
   "id": "73eba0fd-46e4-4470-b2da-5cfa45c1f716",
   "metadata": {},
   "source": [
    "Q2. What happens when an exeption is not handled? Explain with an exmple"
   ]
  },
  {
   "cell_type": "code",
   "execution_count": 3,
   "id": "eb9f0c73-e037-4ae2-9046-caaa22812409",
   "metadata": {},
   "outputs": [
    {
     "ename": "ZeroDivisionError",
     "evalue": "division by zero",
     "output_type": "error",
     "traceback": [
      "\u001b[0;31m---------------------------------------------------------------------------\u001b[0m",
      "\u001b[0;31mZeroDivisionError\u001b[0m                         Traceback (most recent call last)",
      "Cell \u001b[0;32mIn[3], line 11\u001b[0m\n\u001b[1;32m      9\u001b[0m numerator \u001b[38;5;241m=\u001b[39m \u001b[38;5;241m10\u001b[39m\n\u001b[1;32m     10\u001b[0m denominator \u001b[38;5;241m=\u001b[39m \u001b[38;5;241m0\u001b[39m\n\u001b[0;32m---> 11\u001b[0m result \u001b[38;5;241m=\u001b[39m \u001b[43mnumerator\u001b[49m\u001b[43m \u001b[49m\u001b[38;5;241;43m/\u001b[39;49m\u001b[43m \u001b[49m\u001b[43mdenominator\u001b[49m\n\u001b[1;32m     12\u001b[0m \u001b[38;5;28mprint\u001b[39m(result)\n\u001b[1;32m     15\u001b[0m \u001b[38;5;124;03m'''\u001b[39;00m\n\u001b[1;32m     16\u001b[0m \u001b[38;5;124;03mThis error message tells us that the program raised a ZeroDivisionError exception at line 11 \u001b[39;00m\n\u001b[1;32m     17\u001b[0m \u001b[38;5;124;03mand that the exception was not handled, causing the program to terminate. T\u001b[39;00m\n\u001b[0;32m   (...)\u001b[0m\n\u001b[1;32m     20\u001b[0m \n\u001b[1;32m     21\u001b[0m \u001b[38;5;124;03m'''\u001b[39;00m\n",
      "\u001b[0;31mZeroDivisionError\u001b[0m: division by zero"
     ]
    }
   ],
   "source": [
    "'''\n",
    "When an exception is not handled, it results in the termination of the program and the display of an error message that describes the exception. \n",
    "The error message also includes a traceback, \n",
    "which is a list of the functions and code lines that led to the exception\n",
    "'''\n",
    "\n",
    "#example\n",
    "\n",
    "numerator = 10\n",
    "denominator = 0\n",
    "result = numerator / denominator\n",
    "print(result)\n",
    "\n",
    "\n",
    "'''\n",
    "This error message tells us that the program raised a ZeroDivisionError exception at line 11 \n",
    "and that the exception was not handled, causing the program to terminate. T\n",
    "o avoid this, we can handle the exception by using a try and except block to catch the exception and handle it appropriately,\n",
    "such as printing an error message and exiting the program gracefully.\n",
    "\n",
    "'''\n"
   ]
  },
  {
   "cell_type": "markdown",
   "id": "cc9cdcff-9181-41bb-be71-132926f79916",
   "metadata": {},
   "source": [
    "Q3. Which Python statements are used to catch and handle exeptions? Explain with an exmple"
   ]
  },
  {
   "cell_type": "code",
   "execution_count": 4,
   "id": "69e2c895-cd27-4e96-9554-a253dfffa82a",
   "metadata": {},
   "outputs": [
    {
     "name": "stdout",
     "output_type": "stream",
     "text": [
      "Error: Division by zero\n"
     ]
    }
   ],
   "source": [
    "'''\n",
    "To catch and handle exceptions in Python, we use the try and except statements. \n",
    "The try statement encloses the code that we want to run, and the except statement specifies \n",
    "what to do when an exception is raised in the try block. \n",
    "'''\n",
    "#Here's an example:\n",
    "\n",
    "try:\n",
    "    numerator = 10\n",
    "    denominator = 0\n",
    "    result = numerator / denominator\n",
    "    print(result)\n",
    "except ZeroDivisionError:\n",
    "    print(\"Error: Division by zero\")\n"
   ]
  },
  {
   "cell_type": "markdown",
   "id": "a8c99b16-eab3-4013-91c1-bc7309bad7b6",
   "metadata": {},
   "source": [
    "Q4. Explin with an exmple\n",
    "try and else\n",
    "finally\n",
    "raise"
   ]
  },
  {
   "cell_type": "code",
   "execution_count": 7,
   "id": "9cfb0c22-93c2-48eb-9b3a-3af200649c49",
   "metadata": {},
   "outputs": [
    {
     "name": "stdout",
     "output_type": "stream",
     "text": [
      "Error: File not found\n",
      "Closing file\n",
      "File closed\n"
     ]
    },
    {
     "ename": "ValueError",
     "evalue": "Custom error message",
     "output_type": "error",
     "traceback": [
      "\u001b[0;31m---------------------------------------------------------------------------\u001b[0m",
      "\u001b[0;31mValueError\u001b[0m                                Traceback (most recent call last)",
      "Cell \u001b[0;32mIn[7], line 21\u001b[0m\n\u001b[1;32m     19\u001b[0m f\u001b[38;5;241m.\u001b[39mclose()\n\u001b[1;32m     20\u001b[0m \u001b[38;5;28mprint\u001b[39m(\u001b[38;5;124m\"\u001b[39m\u001b[38;5;124mFile closed\u001b[39m\u001b[38;5;124m\"\u001b[39m)\n\u001b[0;32m---> 21\u001b[0m \u001b[38;5;28;01mraise\u001b[39;00m \u001b[38;5;167;01mValueError\u001b[39;00m(\u001b[38;5;124m\"\u001b[39m\u001b[38;5;124mCustom error message\u001b[39m\u001b[38;5;124m\"\u001b[39m)\n",
      "\u001b[0;31mValueError\u001b[0m: Custom error message"
     ]
    }
   ],
   "source": [
    "'''\n",
    "The try, else, finally, and raise statements in Python provide additional functionality for handling exceptions \n",
    "and controlling program flow. Here's an example that demonstrates how to use all of these statements together:\n",
    "'''\n",
    "\n",
    "#example\n",
    "\n",
    "\n",
    "try:\n",
    "    f = open(\"files.txt\", \"r\")\n",
    "    data = f.read()\n",
    "    print(data)\n",
    "except FileNotFoundError:\n",
    "    print(\"Error: File not found\")\n",
    "else:\n",
    "    print(\"File read successfully\")\n",
    "finally:\n",
    "    print(\"Closing file\")\n",
    "    f.close()\n",
    "    print(\"File closed\")\n",
    "    raise ValueError(\"Custom error message\")\n"
   ]
  },
  {
   "cell_type": "markdown",
   "id": "0f5e0d76-6773-412e-a809-9bff78812ca8",
   "metadata": {},
   "source": [
    "Q5. What are Custom Exeptions in python? Why do we need Custom Exeptions? Explain with an exmple"
   ]
  },
  {
   "cell_type": "code",
   "execution_count": 8,
   "id": "6097759c-c909-48dc-ac6d-01194021cbd2",
   "metadata": {},
   "outputs": [
    {
     "name": "stdout",
     "output_type": "stream",
     "text": [
      "Cannot calculate square root of a negative number\n"
     ]
    }
   ],
   "source": [
    "'''\n",
    "Custom exceptions in Python are user-defined exceptions that allow us to create new types of exceptions \n",
    "that are specific to our program's needs. We need custom exceptions because sometimes the built-in exceptions in \n",
    "Python do not provide enough context or specificity for our programs' needs, \n",
    "and we need to create our own exceptions to handle specific cases.\n",
    "\n",
    "'''\n",
    "#example\n",
    "\n",
    "class NegativeNumberError(Exception):\n",
    "    pass\n",
    "\n",
    "def square_root(num):\n",
    "    if num < 0:\n",
    "        raise NegativeNumberError(\"Cannot calculate square root of a negative number\")\n",
    "    else:\n",
    "        return num ** 0.5\n",
    "\n",
    "try:\n",
    "    result = square_root(-4)\n",
    "    print(result)\n",
    "except NegativeNumberError as e:\n",
    "    print(e)\n"
   ]
  },
  {
   "cell_type": "markdown",
   "id": "949c403b-c8af-4279-9d9e-bcba3eca5dfa",
   "metadata": {},
   "source": [
    "Q6. Create custom exeption ,class. Use this ,class to handle an exeption."
   ]
  },
  {
   "cell_type": "code",
   "execution_count": 9,
   "id": "15ef855d-1928-4c48-b4c1-494484c6a692",
   "metadata": {},
   "outputs": [
    {
     "name": "stdout",
     "output_type": "stream",
     "text": [
      "Error:  Inputs must be positive numbers\n"
     ]
    }
   ],
   "source": [
    "class InvalidInputError(Exception):\n",
    "    pass\n",
    "\n",
    "def calculate_product(num1, num2):\n",
    "    if num1 < 0 or num2 < 0:\n",
    "        raise InvalidInputError(\"Inputs must be positive numbers\")\n",
    "    else:\n",
    "        return num1 * num2\n",
    "\n",
    "try:\n",
    "    result = calculate_product(-2, 5)\n",
    "    print(result)\n",
    "except InvalidInputError as e:\n",
    "    print(\"Error: \", e)\n"
   ]
  },
  {
   "cell_type": "code",
   "execution_count": null,
   "id": "57030d9c-2fe7-4e2e-aa6d-e48d7c0c5a8f",
   "metadata": {},
   "outputs": [],
   "source": []
  }
 ],
 "metadata": {
  "kernelspec": {
   "display_name": "Python 3 (ipykernel)",
   "language": "python",
   "name": "python3"
  },
  "language_info": {
   "codemirror_mode": {
    "name": "ipython",
    "version": 3
   },
   "file_extension": ".py",
   "mimetype": "text/x-python",
   "name": "python",
   "nbconvert_exporter": "python",
   "pygments_lexer": "ipython3",
   "version": "3.10.8"
  }
 },
 "nbformat": 4,
 "nbformat_minor": 5
}
