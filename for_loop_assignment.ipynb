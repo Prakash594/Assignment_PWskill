{
 "cells": [
  {
   "cell_type": "raw",
   "id": "03e72d5a-21ac-4974-afa3-b3639ef2a4f6",
   "metadata": {},
   "source": [
    "1) Explain with an example each when to use a for loop and a while loop."
   ]
  },
  {
   "cell_type": "code",
   "execution_count": 1,
   "id": "215256bc-09fb-47ba-a2f2-b009dc796225",
   "metadata": {},
   "outputs": [
    {
     "name": "stdout",
     "output_type": "stream",
     "text": [
      "Inside For loop\n",
      "1\n",
      "4\n",
      "9\n",
      "16\n",
      "25\n",
      "36\n",
      "49\n",
      "64\n",
      "81\n",
      "100\n",
      "Inside while loop\n",
      "1\n",
      "4\n",
      "9\n",
      "16\n",
      "25\n",
      "36\n",
      "49\n",
      "64\n",
      "81\n",
      "100\n"
     ]
    }
   ],
   "source": [
    "#For loop\n",
    "'''\n",
    "for loops are used when you have a block of code which you want to repeat a fixed number of times. \n",
    "The for-loop is always used in combination with an iterable object, like a list or a range. \n",
    "The Python for statement iterates over the members of a sequence in order, executing the block each time. \n",
    "'''\n",
    "\n",
    "print(\"Inside For loop\")\n",
    "for i in range(1,11):\n",
    "    print(i*i)\n",
    "    \n",
    "#while loop\n",
    "'''\n",
    "Python while loop is used to run a block code until a certain condition is met.\n",
    "\n",
    "1.A while loop evaluates the condition\n",
    "2.If the condition evaluates to True, the code inside the while loop is executed.\n",
    "3.condition is evaluated again.\n",
    "4.This process continues until the condition is False.\n",
    "5.When condition evaluates to False, the loop stops.\n",
    "'''\n",
    "j=1\n",
    "print(\"Inside while loop\")\n",
    "while(j<11):\n",
    "    print(j*j)\n",
    "    j=j+1\n",
    "    "
   ]
  },
  {
   "cell_type": "markdown",
   "id": "d40b595a-1f0d-4894-8210-0c3c37831eca",
   "metadata": {},
   "source": [
    "Q2) Write a python program to print the sum and product of the first 10 natural numbers using for and while loop\n",
    "\n"
   ]
  },
  {
   "cell_type": "code",
   "execution_count": 2,
   "id": "c3fe6171-11e1-4d2e-8bd9-f5f08aab9a70",
   "metadata": {},
   "outputs": [
    {
     "name": "stdout",
     "output_type": "stream",
     "text": [
      "First 10 Natural Number Sum=> 55\n",
      "First 10 Natural Number Product=> 3628800\n"
     ]
    }
   ],
   "source": [
    "#first print of sum and product of first 10 natural number using for loop\n",
    "sum=0\n",
    "product=1\n",
    "for i in range(1,11):\n",
    "    sum=sum+i\n",
    "    product=product*i\n",
    "print(\"First 10 Natural Number Sum=>\",sum)\n",
    "print(\"First 10 Natural Number Product=>\",product)\n",
    "\n",
    "\n"
   ]
  },
  {
   "cell_type": "code",
   "execution_count": 3,
   "id": "5ec5e5f3-e10b-40ad-8a5d-c7ddd708aecd",
   "metadata": {},
   "outputs": [
    {
     "name": "stdout",
     "output_type": "stream",
     "text": [
      "First 10 Natural Number Sum=> 55\n",
      "First 10 Natural Number Product=> 3628800\n"
     ]
    }
   ],
   "source": [
    "# print of sum and product of first 10 natural number using while loop\n",
    "sum=0\n",
    "product=1\n",
    "j=1\n",
    "while(j<11):\n",
    "    sum=sum+j\n",
    "    product=product*j\n",
    "    j=j+1\n",
    "print(\"First 10 Natural Number Sum=>\",sum)\n",
    "print(\"First 10 Natural Number Product=>\",product)"
   ]
  },
  {
   "cell_type": "markdown",
   "id": "47cc3b4a-4125-4669-8a87-eabf99235b5e",
   "metadata": {},
   "source": [
    "Q3) create a python program to compute the electricity bill for a house hold \n",
    "\n",
    "i)the per -unit charges in rupees are as follow :for first 100 unit the user will be charge rs 4.5 per \n",
    "ii)for the next 100 unit , yhe user will be charge rs 6 per unit\n",
    "iii) for the next 100 unit, the user will be charge rs 10 per unit \n",
    "iv) after 300 unit and above the user will be charge rs 20 per unit \n"
   ]
  },
  {
   "cell_type": "code",
   "execution_count": 8,
   "id": "9dd13068-5c86-4444-ae42-574fb6bd6620",
   "metadata": {},
   "outputs": [
    {
     "name": "stdin",
     "output_type": "stream",
     "text": [
      "Enter Bill Unit-> 310\n"
     ]
    },
    {
     "name": "stdout",
     "output_type": "stream",
     "text": [
      "2250.0\n"
     ]
    }
   ],
   "source": [
    "unit = int(input(\"Enter Bill Unit->\"))\n",
    "bill=0\n",
    "total= unit \n",
    "if unit>0 and unit<=100:\n",
    "    bill=bill+(unit*4.5)\n",
    "    print(bill)\n",
    "elif unit>100 and unit<=200:\n",
    "    bill=bill+(100*4.5)\n",
    "    total=total-100\n",
    "    bill=bill+(total*6)\n",
    "    print(bill)\n",
    "elif unit>200 and unit<=300:\n",
    "    bill=bill+(100*4.5)\n",
    "    total=total-100\n",
    "    bill=bill+(100*6)\n",
    "    total=total-100\n",
    "    bill = bill+(total*10)\n",
    "    print(bill)\n",
    "else:\n",
    "    if unit>300:\n",
    "        bill=bill+(100*4.5)\n",
    "        total=total-100\n",
    "        bill=bill+(100*6)\n",
    "        total=total-100\n",
    "        bill = bill+(100*10)\n",
    "        total=total-100\n",
    "        bill=bill+(total*20)\n",
    "    print(bill)"
   ]
  },
  {
   "cell_type": "markdown",
   "id": "9fd67011-0d15-4c45-b566-92db61a3b20e",
   "metadata": {},
   "source": [
    "Q4) create a list of numbers from 1 to 100 use for loop to calculate the cube each number and if the cube of that number is divisible by 4 or 5 then append that number in a list and print that list"
   ]
  },
  {
   "cell_type": "code",
   "execution_count": 5,
   "id": "be6d30aa-1f52-4d50-90b7-da285d80ee8f",
   "metadata": {},
   "outputs": [
    {
     "name": "stdout",
     "output_type": "stream",
     "text": [
      "[10, 20, 30, 40, 50, 60, 70, 80, 90, 100]\n"
     ]
    }
   ],
   "source": [
    "li=[]\n",
    "cube=0\n",
    "for i in range(1,101):\n",
    "    cube=i**3\n",
    "    if cube%4==0 and cube%5==0:\n",
    "        li.append(i)\n",
    "print(li)\n"
   ]
  },
  {
   "cell_type": "markdown",
   "id": "d5f6c97f-c64f-49df-a382-679a197e56ae",
   "metadata": {},
   "source": [
    "Q5) write a program to filter count vowel in the below given string.\n",
    "    string=\"I want to become a data scientist\""
   ]
  },
  {
   "cell_type": "code",
   "execution_count": 6,
   "id": "163fb813-bc72-42a4-ba84-00cf4512255f",
   "metadata": {},
   "outputs": [
    {
     "name": "stdout",
     "output_type": "stream",
     "text": [
      "12\n"
     ]
    }
   ],
   "source": [
    "vowel=['A','E','I','O','U']\n",
    "string=\"I want to become a data scientist\"\n",
    "count=0\n",
    "for i in string:\n",
    "    if i.upper() in vowel:\n",
    "        count=count+1\n",
    "print(count)"
   ]
  },
  {
   "cell_type": "code",
   "execution_count": null,
   "id": "4d904c2c-62d3-45cc-b353-63f85fbfd674",
   "metadata": {},
   "outputs": [],
   "source": []
  }
 ],
 "metadata": {
  "kernelspec": {
   "display_name": "Python 3 (ipykernel)",
   "language": "python",
   "name": "python3"
  },
  "language_info": {
   "codemirror_mode": {
    "name": "ipython",
    "version": 3
   },
   "file_extension": ".py",
   "mimetype": "text/x-python",
   "name": "python",
   "nbconvert_exporter": "python",
   "pygments_lexer": "ipython3",
   "version": "3.10.8"
  }
 },
 "nbformat": 4,
 "nbformat_minor": 5
}
