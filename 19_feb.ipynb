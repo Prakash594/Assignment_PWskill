{
 "cells": [
  {
   "cell_type": "markdown",
   "id": "1ff8eb89-0886-4fa1-8a2a-5dec53ab858b",
   "metadata": {},
   "source": [
    "Q1. What is Flask Framework? What are the advantages of Flask Framework?"
   ]
  },
  {
   "cell_type": "code",
   "execution_count": null,
   "id": "65a0ad4d-49db-4103-bbac-c9e3dc38ca34",
   "metadata": {},
   "outputs": [],
   "source": [
    "#Flask\n",
    "'''\n",
    "Flask is a lightweight and flexible Python web framework that allows developers to build web applications quickly and easily. \n",
    "It is based on the Werkzeug toolkit and the Jinja2 template engine, \n",
    "which provides a powerful and extensible foundation for web application development.\n",
    "'''\n",
    "\n",
    "#Advantage\n",
    "'''\n",
    "Lightweight: Flask is a lightweight framework, meaning it does not require particular libraries or tools to run, \n",
    "making it an ideal choice for small to medium-sized applications.\n",
    "\n",
    "Flexibility: Flask provides a flexible architecture that allows developers to create web applications using their preferred libraries, \n",
    "tools, and technologies.\n",
    "\n",
    "Modular design: Flask has a modular design, meaning that developers can use only the components they need and combine them with \n",
    "other libraries or tools.\n",
    "\n",
    "Extensible: Flask is highly extensible, making it easy to add new functionalities and features to existing applications.\n",
    "\n",
    "Easy to learn: Flask has a simple and intuitive syntax, which makes it easy for beginners to learn and use.\n",
    "\n",
    "Powerful debugging tools: Flask provides a powerful set of debugging tools that help developers quickly identify and resolve\n",
    "errors in their code.\n",
    "\n",
    "Large community: Flask has a large and active community of developers who contribute to its development, provide support,\n",
    "and share their knowledge and experience.\n",
    "'''"
   ]
  },
  {
   "cell_type": "markdown",
   "id": "94a0718f-52fe-4273-bf64-b801c9357c3e",
   "metadata": {},
   "source": [
    "Q2. Create a simple Flask application to display ‘Hello World!!’. Attach the screenshot of the output in\n",
    "Jupyter Notebook."
   ]
  },
  {
   "cell_type": "code",
   "execution_count": null,
   "id": "ffe356e9-7613-4109-9420-7c9cb88593ed",
   "metadata": {},
   "outputs": [],
   "source": [
    "from flask import Flask\n",
    "\n",
    "app = Flask(__name__)\n",
    "\n",
    "@app.route(\"/\")\n",
    "def hello_world():\n",
    "    return \"<h1>Hello,PW World!</h1>\"\n",
    "\n",
    "if __name__==\"__main__\":\n",
    "    app.run(host=\"0.0.0.0\")"
   ]
  },
  {
   "cell_type": "markdown",
   "id": "cb242dbc-6e4d-4fc5-9843-bed983b87d49",
   "metadata": {},
   "source": [
    "![](OUTPUT.png)"
   ]
  },
  {
   "cell_type": "markdown",
   "id": "44d619e1-436a-4a84-92bf-5640edb1c566",
   "metadata": {},
   "source": [
    "Q3. What is App routing in Flask? Why do we use app routes?"
   ]
  },
  {
   "cell_type": "code",
   "execution_count": null,
   "id": "34dc8888-e051-4302-9ab2-6dac3af90379",
   "metadata": {},
   "outputs": [],
   "source": [
    "'''\n",
    "In Flask, App Routing refers to the process of defining the URL patterns for different pages or views \n",
    "in a web application. Essentially, it is the way of mapping URLs to specific Python functions that handle the \n",
    "HTTP requests and generate the appropriate response.\n",
    "\n",
    "Flask provides the @app.route decorator to define the routes or endpoints for your application. \n",
    "A route decorator binds a URL pattern to a view function that returns an HTTP response. \n",
    "The URL pattern can contain variable parts that capture data from the URL, which can then be passed to the\n",
    "view function as arguments.\n",
    "'''\n",
    "#example\n",
    "\n",
    "from flask import Flask\n",
    "\n",
    "app = Flask(__name__)\n",
    "\n",
    "@app.route('/')\n",
    "def index():\n",
    "    return 'Hello, World!'\n",
    "\n",
    "@app.route('/user/<username>')\n",
    "def user_profile(username):\n",
    "    return f'Welcome to {username}\\'s profile!'\n"
   ]
  },
  {
   "cell_type": "markdown",
   "id": "a91abf03-a7c1-458d-bb6f-7171e4cd1014",
   "metadata": {},
   "source": [
    "Q4.  Create a “/welcome” route to display the welcome message “Welcome to ABC Corporation” and a “/”\n",
    "route to show the following details:\n",
    "\n",
    "    Company Name: ABC Corporation\n",
    "\n",
    "    Location: India\n",
    "\n",
    "    Contact Detail: 999-999-9999 \n",
    "\n",
    "\n",
    "Attach the screenshot of the output in Jupyter Notebook."
   ]
  },
  {
   "cell_type": "code",
   "execution_count": null,
   "id": "4a6e92cb-45d6-416f-966a-0359ee55a5fa",
   "metadata": {},
   "outputs": [],
   "source": [
    "from flask import Flask\n",
    "\n",
    "app = Flask(__name__)\n",
    "\n",
    "@app.route(\"/\")\n",
    "def hello_world():\n",
    "    return \"<h1>Company Name: ABC Corporation <br>Location: India<br>Contact Detail: 9999999999 </h1>\"\n",
    "\n",
    "@app.route(\"/welcome\")\n",
    "def welcome():\n",
    "    return \"<h1>Welcome to ABC Corporation</h1>\"\n",
    "\n",
    "if __name__==\"__main__\":\n",
    "    app.run(host=\"0.0.0.0\")"
   ]
  },
  {
   "cell_type": "code",
   "execution_count": null,
   "id": "3ba4ce11-e1d1-4c5e-acd6-05b144203aa4",
   "metadata": {},
   "outputs": [],
   "source": [
    "![](ABC.png)\n",
    "![](abc2.png)"
   ]
  },
  {
   "cell_type": "markdown",
   "id": "e157bdec-f0ec-475f-a8c0-59b1f8750bca",
   "metadata": {},
   "source": [
    "Q5. What function is used in Flask for URL Building? Write a Python code to demonstrate the working of the\n",
    "url_for() function."
   ]
  },
  {
   "cell_type": "code",
   "execution_count": null,
   "id": "9b1dc628-bcf0-4773-9cd6-46c5f639f403",
   "metadata": {},
   "outputs": [],
   "source": [
    "from flask import Flask, url_for\n",
    "\n",
    "app = Flask(__name__)\n",
    "\n",
    "@app.route('/')\n",
    "def index():\n",
    "    return 'Welcome to the homepage!'\n",
    "\n",
    "@app.route('/user/<username>')\n",
    "def user_profile(username):\n",
    "    return f'Welcome to {username}\\'s profile!'\n",
    "\n",
    "@app.route('/post/<int:post_id>')\n",
    "def show_post(post_id):\n",
    "    return f'This is post number {post_id}!'\n",
    "\n",
    "@app.route('/about')\n",
    "def about():\n",
    "    return 'This is the About page!'\n",
    "\n",
    "with app.test_request_context():\n",
    "    print(url_for('index'))  # Output: /\n",
    "    print(url_for('user_profile', username='john'))  # Output: /user/john\n",
    "    print(url_for('show_post', post_id=5))  # Output: /post/5\n",
    "    print(url_for('about', _external=True))  # Output: http://localhost:5000/about\n",
    "\n"
   ]
  }
 ],
 "metadata": {
  "kernelspec": {
   "display_name": "Python 3 (ipykernel)",
   "language": "python",
   "name": "python3"
  },
  "language_info": {
   "codemirror_mode": {
    "name": "ipython",
    "version": 3
   },
   "file_extension": ".py",
   "mimetype": "text/x-python",
   "name": "python",
   "nbconvert_exporter": "python",
   "pygments_lexer": "ipython3",
   "version": "3.10.8"
  }
 },
 "nbformat": 4,
 "nbformat_minor": 5
}
