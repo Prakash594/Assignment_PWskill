{
 "cells": [
  {
   "cell_type": "markdown",
   "id": "2dd1c430-3b20-40ab-9393-39ed61fc8eb0",
   "metadata": {},
   "source": [
    "Q1.what is database differentiate between SQL and no sql"
   ]
  },
  {
   "cell_type": "code",
   "execution_count": 1,
   "id": "4597c22c-f2f1-47c0-8a43-85229733bb0c",
   "metadata": {},
   "outputs": [
    {
     "data": {
      "text/plain": [
       "'\\nIn general, SQL databases are better suited for applications that require complex queries and transactions,\\nwhile NoSQL databases are better suited for applications that require high scalability and flexibility in data storage.\\nHowever, the choice between SQL and NoSQL databases depends on the specific needs and requirements of the application.\\n'"
      ]
     },
     "execution_count": 1,
     "metadata": {},
     "output_type": "execute_result"
    }
   ],
   "source": [
    "#database\n",
    "'''\n",
    "A database is a collection of data that is organized in a way that allows for efficient storage, retrieval, \n",
    "and management of the data. Databases are used in many applications,\n",
    "from simple data storage to complex data processing and analysis.\n",
    "'''\n",
    "\n",
    "#SQL (Structured Query Language) and \n",
    "#NoSQL (Not Only SQL) are two different types of databases that differ in their data models, data structures, and query languages.\n",
    "\n",
    "#SQL\n",
    "'''\n",
    "SQL databases are relational databases that use a table-based data model to store data.\n",
    "They have a predefined schema that specifies the structure of the data, \n",
    "and use SQL as their query language to interact with the data. Examples of SQL databases include\n",
    "MySQL, Oracle, and Microsoft SQL Server.\n",
    "'''\n",
    "\n",
    "#NoSQL\n",
    "\n",
    "'''\n",
    "NoSQL databases, on the other hand, use non-relational data models to store data. They don't have a fixed schema, \n",
    "which allows for more flexibility in data storage and retrieval. NoSQL databases also use different query languages than SQL,\n",
    "such as MongoDB's JSON-based query language. Examples of NoSQL databases include MongoDB, Cassandra,and Redis.\n",
    "'''\n",
    "'''\n",
    "In general, SQL databases are better suited for applications that require complex queries and transactions,\n",
    "while NoSQL databases are better suited for applications that require high scalability and flexibility in data storage.\n",
    "However, the choice between SQL and NoSQL databases depends on the specific needs and requirements of the application.\n",
    "'''"
   ]
  },
  {
   "cell_type": "markdown",
   "id": "9548e1ae-5b3d-4ead-b4a4-444c13aa7479",
   "metadata": {},
   "source": [
    "Q2.What Is ddl?  Explain why create Drop Alter And truncate are use with an example"
   ]
  },
  {
   "cell_type": "code",
   "execution_count": null,
   "id": "40afdbad-284f-458d-a58c-14cba890dd2f",
   "metadata": {},
   "outputs": [],
   "source": [
    "#DDL\n",
    "\n",
    "'''\n",
    "Data Definition Language (DDL) is a subset of SQL. It is a language for describing data and its relationships in a database.\n",
    "You can generate DDL in a script for database objects to: Keep a snapshot of the database structure.\n",
    "Set up a test system where the database acts like the production system but contains no data.\n",
    "'''\n",
    "#CREATE: \n",
    "'''\n",
    "The CREATE command is used to create a new database object.\n",
    "Here's an example of how to create a new table called \"students\" with columns for \"id,\" \"name,\" and \"age\":\n",
    "'''\n",
    "#example\n",
    "CREATE TABLE students (\n",
    "  id INT PRIMARY KEY,\n",
    "  name VARCHAR(50),\n",
    "  age INT\n",
    ");\n",
    "#: Drop\n",
    "'''\n",
    "The DROP command is used to delete a database object. Here's an example of how to drop the \"students\" table we just created:\n",
    "'''\n",
    "#example\n",
    "DROP TABLE students;\n",
    "\n",
    "#ALTER: \n",
    "'''\n",
    "The ALTER command is used to modify the structure of an existing database object.\n",
    "Here's an example of how to add a new column called \"email\" to the \"students\" table:\n",
    "'''\n",
    "ALTER TABLE students ADD COLUMN email VARCHAR(100);\n",
    "\n",
    "#TRUNCATE: The TRUNCATE command is used to delete all data from a table. Here's an example of how to truncate the \"students\" table:\n",
    "\n",
    "TRUNCATE TABLE students;"
   ]
  },
  {
   "cell_type": "markdown",
   "id": "ab7031bb-aeb7-44bc-b1cc-48371d7cfce3",
   "metadata": {},
   "source": [
    "Q3.What Is DML?  Explain Insert Update And Delete with an example"
   ]
  },
  {
   "cell_type": "code",
   "execution_count": null,
   "id": "96cbcc52-9a75-4d43-abcf-52afcabd5486",
   "metadata": {},
   "outputs": [],
   "source": [
    "#DML\n",
    "'''\n",
    "DML stands for \"Data Manipulation Language,\" and it is a subset of SQL (Structured Query Language) \n",
    "that is used to manipulate data within the database.\n",
    "DML statements include INSERT, UPDATE, DELETE, and SELECT, which are used to insert,\n",
    "modify, delete, and retrieve data from the database\n",
    "'''\n",
    "#insert\n",
    "'''\n",
    "INSERT: The INSERT command is used to add new data to a table.\n",
    "Here's an example of how to insert a new record into a \"students\" table:\n",
    "'''\n",
    "INSERT INTO students (id, name, age, email) VALUES (1, 'John Doe', 25, 'johndoe@email.com');\n",
    "\n",
    "#Update\n",
    "'''\n",
    "UPDATE: The UPDATE command is used to modify existing data in a table.\n",
    "Here's an example of how to update the age of a student with an ID of 1:\n",
    "'''\n",
    "UPDATE students SET age = 26 WHERE id = 1;\n",
    "\n",
    "#DELETE \n",
    "'''\n",
    "DELETE: The DELETE command is used to remove data from a table. Here's an example of how to delete a student with an ID of 1:\n",
    "'''\n",
    "\n",
    "DELETE FROM students WHERE id = 1;"
   ]
  },
  {
   "cell_type": "markdown",
   "id": "054997e5-b34a-4a91-8490-7cbe5356fad4",
   "metadata": {},
   "source": [
    "Q4 What Is DQL?  Explain select an example"
   ]
  },
  {
   "cell_type": "code",
   "execution_count": null,
   "id": "3f71b556-5a11-4fc6-91bb-a4b8d143c2b5",
   "metadata": {},
   "outputs": [],
   "source": [
    "#DQL\n",
    "'''\n",
    "DQL stands for \"Data Query Language,\" and it is a subset of SQL (Structured Query Language)\n",
    "that is used to query and retrieve data from the database. \n",
    "The most commonly used DQL command is SELECT, which is used to retrieve data from one or more tables in a database.\n",
    "'''\n",
    "#select\n",
    "'''\n",
    "Suppose we have a table called \"students\" with the following columns: id, name, age, and email. We can use the \n",
    "SELECT command to retrieve all records from the \"students\" table:\n",
    "'''\n",
    "SELECT * FROM students;\n"
   ]
  },
  {
   "cell_type": "markdown",
   "id": "50f6d51f-eeff-4bd8-9acc-769085103663",
   "metadata": {},
   "source": [
    "Q5.Explain foreign key and primary key"
   ]
  },
  {
   "cell_type": "code",
   "execution_count": null,
   "id": "c6e55e03-1c68-4740-af6f-5d7cbde9718f",
   "metadata": {},
   "outputs": [],
   "source": [
    "#ForeginKey\n",
    "\n",
    "'''\n",
    "A foreign key is a column in a table that refers to the primary key of another table. \n",
    "It establishes a relationship between two tables. A foreign key constraint ensures that the values in the foreign\n",
    "key column(s) match the values in the primary key column(s) of the referenced table. \n",
    "For example, in a \"grades\" table, the \"student_id\" column can be set as \n",
    "a foreign key that refers to the \"id\" column of the \"students\" table.\n",
    "This relationship ensures that a student cannot have a grade in the \"grades\" table unless their ID exists in the \"students\" table.\n",
    "\n",
    "'''\n",
    "\n",
    "#primaryKey\n",
    "\"\"\"\n",
    "A primary key is a column or a combination of columns in a table that uniquely identifies each row in the table.\n",
    "A primary key constraint ensures that the value in the primary key column(s) is unique and cannot be null.\n",
    "For example, in a \"students\" table, the \"id\" column can be set as the primary key because it uniquely identifies each student. \n",
    "Having a primary key helps to ensure data integrity and enables efficient indexing and searching of the data.\n",
    "\"\"\""
   ]
  },
  {
   "cell_type": "markdown",
   "id": "abbc24c2-bcc5-43bb-84b4-0b1d5a4561f4",
   "metadata": {},
   "source": [
    "Q6 what is python code to connect mySQL to python explain the cursor() and execute() method"
   ]
  },
  {
   "cell_type": "code",
   "execution_count": null,
   "id": "7b8eb576-85d3-4b08-b94a-7c659f51f833",
   "metadata": {},
   "outputs": [],
   "source": [
    "import mysql.connector\n",
    "\n",
    "# establish connection\n",
    "mydb = mysql.connector.connect(\n",
    "  host=\"localhost\",\n",
    "  user=\"username\",\n",
    "  password=\"password\",\n",
    "  database=\"database_name\"\n",
    ")\n",
    "\n",
    "# create a cursor object\n",
    "mycursor = mydb.cursor()\n",
    "\n",
    "# execute a query\n",
    "mycursor.execute(\"SELECT * FROM students\")\n",
    "\n",
    "# fetch the results\n",
    "results = mycursor.fetchall()\n",
    "\n",
    "# iterate through the results\n",
    "for result in results:\n",
    "  print(result)\n",
    "  \n",
    "# close the cursor and the connection\n",
    "mycursor.close()\n",
    "mydb.close()\n",
    "\n",
    "#cursor()\n",
    "'''\n",
    "we created a cursor object using the cursor() method. A cursor is used to execute SQL queries and retrieve results.\n",
    "We then executed a SELECT query to retrieve all records from the \"students\" table using the execute() method. \n",
    "The execute() method takes an SQL query as a parameter.\n",
    "After executing the query, we used the fetchall() method to fetch all the results. The results are stored as a list of tuples.\n",
    "Finally, we used a for loop to iterate through the results and print each record.\n",
    "'''\n",
    "#Executr()\n",
    "'''\n",
    "In summary, the cursor() method is used to create a cursor object, which is used to execute SQL queries, \n",
    "and the execute() method is used to execute SQL queries.\n",
    "'''\n"
   ]
  },
  {
   "cell_type": "markdown",
   "id": "806b49fb-beb9-4467-aca0-e140a611323a",
   "metadata": {},
   "source": [
    "Q7 give order of executation of SQL clause in an SQL Query"
   ]
  },
  {
   "cell_type": "code",
   "execution_count": null,
   "id": "a713c81e-172f-4c4c-9b51-444618d2a247",
   "metadata": {},
   "outputs": [],
   "source": [
    "'''\n",
    "The order of execution of SQL clauses in an SQL query is as follows:\n",
    "\n",
    "1 FROM: The FROM clause specifies the table or tables from which to retrieve data.\n",
    "\n",
    "2 JOIN: If the query involves more than one table, the JOIN clause is used to combine the data from multiple tables into a single result set.\n",
    "\n",
    "3 WHERE: The WHERE clause is used to filter the data based on specific conditions.\n",
    "\n",
    "4 GROUP BY: The GROUP BY clause is used to group the data based on one or more columns.\n",
    "\n",
    "5 HAVING: The HAVING clause is used to filter the groups based on specific conditions.\n",
    "\n",
    "6 SELECT: The SELECT clause is used to specify which columns to retrieve from the tables.\n",
    "\n",
    "7 DISTINCT: The DISTINCT keyword is used to eliminate duplicate rows from the result set.\n",
    "\n",
    "8 ORDER BY: The ORDER BY clause is used to sort the result set based on one or more columns.\n",
    "\n",
    "9 LIMIT/OFFSET: The LIMIT/OFFSET clause is used to limit the number of rows returned by the query and to specify an offset for the starting row.\n",
    "\n",
    "'''"
   ]
  }
 ],
 "metadata": {
  "kernelspec": {
   "display_name": "Python 3 (ipykernel)",
   "language": "python",
   "name": "python3"
  },
  "language_info": {
   "codemirror_mode": {
    "name": "ipython",
    "version": 3
   },
   "file_extension": ".py",
   "mimetype": "text/x-python",
   "name": "python",
   "nbconvert_exporter": "python",
   "pygments_lexer": "ipython3",
   "version": "3.10.8"
  }
 },
 "nbformat": 4,
 "nbformat_minor": 5
}
