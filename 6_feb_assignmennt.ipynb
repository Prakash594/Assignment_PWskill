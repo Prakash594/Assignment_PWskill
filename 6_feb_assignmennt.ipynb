{
 "cells": [
  {
   "cell_type": "markdown",
   "id": "85f61fae-65d5-41ba-b866-0bb358ff6536",
   "metadata": {},
   "source": [
    "Q1. Create a function which will take a list as an argument and return the product of all the numbers\n",
    "after creating a flat list.\n",
    "Use the below-given list as an argument for your function.\n",
    "\n",
    "\n",
    "list1 = [1,2,3,4, [44,55,66, True], False, (34,56,78,89,34), {1,2,3,3,2,1}, {1:34, \"key2\": [55, 67, 78, 89], 4: (45,\n",
    "22, 61, 34)}, [56, 'data science'], 'Machine Learning']\n",
    "Note: you must extract numeric keys and values of the dictionary also."
   ]
  },
  {
   "cell_type": "code",
   "execution_count": 3,
   "id": "c61a4e01-24fc-418b-b5b2-f93cfa58c0c2",
   "metadata": {},
   "outputs": [
    {
     "name": "stdout",
     "output_type": "stream",
     "text": [
      "335621713680284480844595200\n"
     ]
    }
   ],
   "source": [
    "def flatten_list(lst):\n",
    "    flat_list = []\n",
    "    for i in lst:\n",
    "        if type(i) == int:\n",
    "            flat_list.append(i)\n",
    "        elif type(i) == float:\n",
    "            flat_list.append(i)\n",
    "        elif type(i) == tuple:\n",
    "            for j in i:\n",
    "                if type(j) == int:\n",
    "                    flat_list.append(j)\n",
    "                elif type(j) == float:\n",
    "                    flat_list.append(j)\n",
    "        elif type(i) == list:\n",
    "            for j in i:\n",
    "                if type(j) == int:\n",
    "                    flat_list.append(j)\n",
    "                elif type(j) == float:\n",
    "                    flat_list.append(j)\n",
    "                elif type(j) == tuple:\n",
    "                    for k in j:\n",
    "                        if type(k) == int:\n",
    "                            flat_list.append(k)\n",
    "                        elif type(k) == float:\n",
    "                            flat_list.append(k)\n",
    "                elif type(j) == list:\n",
    "                    flat_list += flatten_list(j)\n",
    "                elif type(j) == dict:\n",
    "                    for k, v in j.items():\n",
    "                        if type(k) == int or type(k) == float:\n",
    "                            flat_list.append(k)\n",
    "                        if type(v) == int or type(v) == float:\n",
    "                            flat_list.append(v)\n",
    "                        if type(v) == list:\n",
    "                            flat_list += flatten_list(v)\n",
    "                else:\n",
    "                    pass\n",
    "        elif type(i) == dict:\n",
    "            for j, k in i.items():\n",
    "                if type(j) == int or type(j) == float:\n",
    "                    flat_list.append(j)\n",
    "                if type(k) == int or type(k) == float:\n",
    "                    flat_list.append(k)\n",
    "                if type(k) == list:\n",
    "                    flat_list += flatten_list(k)\n",
    "        else:\n",
    "            pass\n",
    "    return flat_list\n",
    "\n",
    "def product_of_numbers(lst):\n",
    "    flat_list = flatten_list(lst)\n",
    "    product = 1\n",
    "    for i in flat_list:\n",
    "        product *= i\n",
    "    return product\n",
    "\n",
    "list1 = [1,2,3,4, [44,55,66, True], False, (34,56,78,89,34), {1,2,3,3,2,1}, {1:34, \"key2\": [55, 67, 78, 89], 4: (45, 22, 61, 34)}, [56, 'data science'], 'Machine Learning']\n",
    "print(product_of_numbers(list1))\n",
    "\n"
   ]
  },
  {
   "cell_type": "markdown",
   "id": "21e4e9c6-f0ae-42ff-99a4-7b2f0668a77e",
   "metadata": {},
   "source": [
    "Q2. Write a python program for encrypting a message sent to you by your friend. The logic of encryption\n",
    "should be such that, for a the output should be z. For b, the output should be y. For c, the output should\n",
    "be x respectively. Also, the whitespace should be replaced with a dollar sign. Keep the punctuation\n",
    "marks unchanged.\n",
    "\n",
    "Input Sentence: I want to become a Data Scientist.\n",
    "\n",
    "Encrypt the above input sentence using the program you just created.\n",
    "\n",
    "Note: Convert the given input sentence into lowercase before encrypting. The final output should be\n",
    "lowercase."
   ]
  },
  {
   "cell_type": "code",
   "execution_count": 6,
   "id": "7c623a29-027d-49ac-97ed-9fee4fbcdcc1",
   "metadata": {},
   "outputs": [
    {
     "name": "stdout",
     "output_type": "stream",
     "text": [
      "r$dzmg$gl$yvxlnv$z$wzgz$hxrvmgrhg\n"
     ]
    }
   ],
   "source": [
    "Input='I want to become a Data Scientist'\n",
    "\n",
    "dic = {\"a\": \"z\", \"b\": \"y\",\"c\": \"x\", \"d\": \"w\",\"e\": \"v\",\"f\":\"u\",\"g\":\"t\",\"h\":\"s\",\"i\":\"r\",\"j\":\"q\"\n",
    "        ,\"k\":\"p\",\"l\":\"o\",\"m\":\"n\",\"n\":\"m\",\"o\":\"l\",\"p\":\"k\",\"q\":\"j\",\"r\":\"i\",\"s\":\"h\",\"t\":\"g\",\"u\":\"f\"\n",
    "       ,\"v\":\"e\",\"w\":\"d\",\"x\":\"c\",\"y\":\"b\",\"z\":\"a\",\" \":\"$\"}\n",
    "output=''\n",
    "for i in Input.lower():\n",
    "    for k,v in dic.items():\n",
    "        if i==k:\n",
    "            output=output+v\n",
    "print(output)        \n",
    "    "
   ]
  },
  {
   "cell_type": "code",
   "execution_count": null,
   "id": "f3a04440-3480-4974-b623-ea2e36da7720",
   "metadata": {},
   "outputs": [],
   "source": []
  },
  {
   "cell_type": "code",
   "execution_count": null,
   "id": "16f05a04-c80d-4245-aee8-1e8be2ea2081",
   "metadata": {},
   "outputs": [],
   "source": []
  }
 ],
 "metadata": {
  "kernelspec": {
   "display_name": "Python 3 (ipykernel)",
   "language": "python",
   "name": "python3"
  },
  "language_info": {
   "codemirror_mode": {
    "name": "ipython",
    "version": 3
   },
   "file_extension": ".py",
   "mimetype": "text/x-python",
   "name": "python",
   "nbconvert_exporter": "python",
   "pygments_lexer": "ipython3",
   "version": "3.10.8"
  }
 },
 "nbformat": 4,
 "nbformat_minor": 5
}
