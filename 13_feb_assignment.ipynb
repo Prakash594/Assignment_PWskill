{
 "cells": [
  {
   "cell_type": "markdown",
   "id": "8ad8fdf7-d821-4664-857c-7d1629353f7a",
   "metadata": {},
   "source": [
    "Q1. Explain why we have to use the Exception class while creating a Custom Exception.\n",
    "\n",
    "Note: Here Exception class refers to the base class for all the exceptions."
   ]
  },
  {
   "cell_type": "code",
   "execution_count": 1,
   "id": "5f0f99fa-6dc6-4a68-83eb-1bc426f0abe3",
   "metadata": {},
   "outputs": [
    {
     "data": {
      "text/plain": [
       "'\\nThe Exception class is used as a base class for custom exceptions because it provides a standard interface for handling and reporting errors.\\nBy inheriting from the Exception class, the custom exception class inherits all the methods and attributes of the Exception class,\\nincluding the ability to customize the error message that is displayed when an exception is raised.\\n\\nWhen an exception is raised, Python searches for an appropriate exception handler to catch the exception.\\nIf a custom exception is raised, the Exception class provides the standard interface for handling the exception,\\nwhich makes it easy to catch and handle the exception using the try-except statement.\\n\\nBy using the Exception class as the base class for custom exceptions, \\ndevelopers can create consistent and standard error handling mechanisms in their code.\\nThis helps to make the code more readable, maintainable, and less error-prone.\\n'"
      ]
     },
     "execution_count": 1,
     "metadata": {},
     "output_type": "execute_result"
    }
   ],
   "source": [
    "'''\n",
    "The Exception class is used as a base class for custom exceptions because it provides a standard interface for handling and reporting errors.\n",
    "By inheriting from the Exception class, the custom exception class inherits all the methods and attributes of the Exception class,\n",
    "including the ability to customize the error message that is displayed when an exception is raised.\n",
    "\n",
    "When an exception is raised, Python searches for an appropriate exception handler to catch the exception.\n",
    "If a custom exception is raised, the Exception class provides the standard interface for handling the exception,\n",
    "which makes it easy to catch and handle the exception using the try-except statement.\n",
    "\n",
    "By using the Exception class as the base class for custom exceptions, \n",
    "developers can create consistent and standard error handling mechanisms in their code.\n",
    "This helps to make the code more readable, maintainable, and less error-prone.\n",
    "'''"
   ]
  },
  {
   "cell_type": "markdown",
   "id": "d42601a2-65c0-4a1b-91cb-a7edbaee413d",
   "metadata": {},
   "source": [
    "Q2. Write a python program to print Python Exception Hierarchy."
   ]
  },
  {
   "cell_type": "code",
   "execution_count": 2,
   "id": "fae597d7-2673-41a8-b968-0d9e44145930",
   "metadata": {},
   "outputs": [
    {
     "name": "stdout",
     "output_type": "stream",
     "text": [
      "Exception hierarchy:\n",
      "BaseException --> object --> BaseException\n",
      "Exception --> BaseException --> object --> BaseException\n",
      "TypeError --> Exception --> BaseException --> object --> BaseException\n",
      "StopAsyncIteration --> Exception --> BaseException --> object --> BaseException\n",
      "StopIteration --> Exception --> BaseException --> object --> BaseException\n",
      "GeneratorExit --> BaseException --> object --> BaseException\n",
      "SystemExit --> BaseException --> object --> BaseException\n",
      "KeyboardInterrupt --> BaseException --> object --> BaseException\n",
      "ImportError --> Exception --> BaseException --> object --> BaseException\n",
      "ModuleNotFoundError --> ImportError --> Exception --> BaseException --> object --> BaseException\n",
      "OSError --> Exception --> BaseException --> object --> BaseException\n",
      "OSError --> Exception --> BaseException --> object --> BaseException\n",
      "OSError --> Exception --> BaseException --> object --> BaseException\n",
      "EOFError --> Exception --> BaseException --> object --> BaseException\n",
      "RuntimeError --> Exception --> BaseException --> object --> BaseException\n",
      "RecursionError --> RuntimeError --> Exception --> BaseException --> object --> BaseException\n",
      "NotImplementedError --> RuntimeError --> Exception --> BaseException --> object --> BaseException\n",
      "NameError --> Exception --> BaseException --> object --> BaseException\n",
      "UnboundLocalError --> NameError --> Exception --> BaseException --> object --> BaseException\n",
      "AttributeError --> Exception --> BaseException --> object --> BaseException\n",
      "SyntaxError --> Exception --> BaseException --> object --> BaseException\n",
      "IndentationError --> SyntaxError --> Exception --> BaseException --> object --> BaseException\n",
      "TabError --> IndentationError --> SyntaxError --> Exception --> BaseException --> object --> BaseException\n",
      "LookupError --> Exception --> BaseException --> object --> BaseException\n",
      "IndexError --> LookupError --> Exception --> BaseException --> object --> BaseException\n",
      "KeyError --> LookupError --> Exception --> BaseException --> object --> BaseException\n",
      "ValueError --> Exception --> BaseException --> object --> BaseException\n",
      "UnicodeError --> ValueError --> Exception --> BaseException --> object --> BaseException\n",
      "UnicodeEncodeError --> UnicodeError --> ValueError --> Exception --> BaseException --> object --> BaseException\n",
      "UnicodeDecodeError --> UnicodeError --> ValueError --> Exception --> BaseException --> object --> BaseException\n",
      "UnicodeTranslateError --> UnicodeError --> ValueError --> Exception --> BaseException --> object --> BaseException\n",
      "AssertionError --> Exception --> BaseException --> object --> BaseException\n",
      "ArithmeticError --> Exception --> BaseException --> object --> BaseException\n",
      "FloatingPointError --> ArithmeticError --> Exception --> BaseException --> object --> BaseException\n",
      "OverflowError --> ArithmeticError --> Exception --> BaseException --> object --> BaseException\n",
      "ZeroDivisionError --> ArithmeticError --> Exception --> BaseException --> object --> BaseException\n",
      "SystemError --> Exception --> BaseException --> object --> BaseException\n",
      "ReferenceError --> Exception --> BaseException --> object --> BaseException\n",
      "MemoryError --> Exception --> BaseException --> object --> BaseException\n",
      "BufferError --> Exception --> BaseException --> object --> BaseException\n",
      "Warning --> Exception --> BaseException --> object --> BaseException\n",
      "UserWarning --> Warning --> Exception --> BaseException --> object --> BaseException\n",
      "EncodingWarning --> Warning --> Exception --> BaseException --> object --> BaseException\n",
      "DeprecationWarning --> Warning --> Exception --> BaseException --> object --> BaseException\n",
      "PendingDeprecationWarning --> Warning --> Exception --> BaseException --> object --> BaseException\n",
      "SyntaxWarning --> Warning --> Exception --> BaseException --> object --> BaseException\n",
      "RuntimeWarning --> Warning --> Exception --> BaseException --> object --> BaseException\n",
      "FutureWarning --> Warning --> Exception --> BaseException --> object --> BaseException\n",
      "ImportWarning --> Warning --> Exception --> BaseException --> object --> BaseException\n",
      "UnicodeWarning --> Warning --> Exception --> BaseException --> object --> BaseException\n",
      "BytesWarning --> Warning --> Exception --> BaseException --> object --> BaseException\n",
      "ResourceWarning --> Warning --> Exception --> BaseException --> object --> BaseException\n",
      "ConnectionError --> OSError --> Exception --> BaseException --> object --> BaseException\n",
      "BlockingIOError --> OSError --> Exception --> BaseException --> object --> BaseException\n",
      "BrokenPipeError --> ConnectionError --> OSError --> Exception --> BaseException --> object --> BaseException\n",
      "ChildProcessError --> OSError --> Exception --> BaseException --> object --> BaseException\n",
      "ConnectionAbortedError --> ConnectionError --> OSError --> Exception --> BaseException --> object --> BaseException\n",
      "ConnectionRefusedError --> ConnectionError --> OSError --> Exception --> BaseException --> object --> BaseException\n",
      "ConnectionResetError --> ConnectionError --> OSError --> Exception --> BaseException --> object --> BaseException\n",
      "FileExistsError --> OSError --> Exception --> BaseException --> object --> BaseException\n",
      "FileNotFoundError --> OSError --> Exception --> BaseException --> object --> BaseException\n",
      "IsADirectoryError --> OSError --> Exception --> BaseException --> object --> BaseException\n",
      "NotADirectoryError --> OSError --> Exception --> BaseException --> object --> BaseException\n",
      "InterruptedError --> OSError --> Exception --> BaseException --> object --> BaseException\n",
      "PermissionError --> OSError --> Exception --> BaseException --> object --> BaseException\n",
      "ProcessLookupError --> OSError --> Exception --> BaseException --> object --> BaseException\n",
      "TimeoutError --> OSError --> Exception --> BaseException --> object --> BaseException\n"
     ]
    }
   ],
   "source": [
    "# Python program to print Python Exception Hierarchy\n",
    "\n",
    "# Get a list of all the built-in exceptions in Python\n",
    "exceptions = []\n",
    "for name, obj in vars(__builtins__).items():\n",
    "    if isinstance(obj, type) and issubclass(obj, BaseException):\n",
    "        exceptions.append(obj)\n",
    "\n",
    "# Print the exception hierarchy\n",
    "print(\"Exception hierarchy:\")\n",
    "for exc in exceptions:\n",
    "    print(f\"{exc.__name__} --> \", end=\"\")\n",
    "    base = exc.__base__\n",
    "    while base is not None:\n",
    "        print(f\"{base.__name__} --> \", end=\"\")\n",
    "        base = base.__base__\n",
    "    print(\"BaseException\")\n"
   ]
  },
  {
   "cell_type": "markdown",
   "id": "61d42696-09f9-422e-9a0b-411d38a5b948",
   "metadata": {},
   "source": [
    "Q3. What errors are defined in the ArithmeticError class? Explain any two with an example."
   ]
  },
  {
   "cell_type": "code",
   "execution_count": 8,
   "id": "502f656f-2377-4907-9c2a-152c37e35158",
   "metadata": {},
   "outputs": [
    {
     "ename": "ZeroDivisionError",
     "evalue": "division by zero",
     "output_type": "error",
     "traceback": [
      "\u001b[0;31m---------------------------------------------------------------------------\u001b[0m",
      "\u001b[0;31mZeroDivisionError\u001b[0m                         Traceback (most recent call last)",
      "Cell \u001b[0;32mIn[8], line 15\u001b[0m\n\u001b[1;32m     13\u001b[0m a \u001b[38;5;241m=\u001b[39m \u001b[38;5;241m10\u001b[39m\n\u001b[1;32m     14\u001b[0m b \u001b[38;5;241m=\u001b[39m \u001b[38;5;241m0\u001b[39m\n\u001b[0;32m---> 15\u001b[0m c \u001b[38;5;241m=\u001b[39m \u001b[43ma\u001b[49m\u001b[38;5;241;43m/\u001b[39;49m\u001b[43mb\u001b[49m   \u001b[38;5;66;03m# ZeroDivisionError: division by zero\u001b[39;00m\n\u001b[1;32m     17\u001b[0m \u001b[38;5;124;03m'''\u001b[39;00m\n\u001b[1;32m     18\u001b[0m \u001b[38;5;124;03mOverflowError: This exception is raised when a mathematical operation overflows the maximum representable value for a numeric type. \u001b[39;00m\n\u001b[1;32m     19\u001b[0m \u001b[38;5;124;03m'''\u001b[39;00m\n\u001b[1;32m     20\u001b[0m \u001b[38;5;66;03m#For example:\u001b[39;00m\n",
      "\u001b[0;31mZeroDivisionError\u001b[0m: division by zero"
     ]
    }
   ],
   "source": [
    "import sys\n",
    "'''\n",
    "The ArithmeticError class is a built-in Python exception class that is used to handle arithmetic errors. \n",
    "It is the base class for all built-in exceptions that occur for arithmetic errors such as ZeroDivisionError,\n",
    "OverflowError, FloatingPointError, etc. Here are two examples of errors defined in the ArithmeticError class:\n",
    "'''\n",
    "'''\n",
    "ZeroDivisionError: This exception is raised when an attempt is made to divide a number by zero.\n",
    "'''\n",
    "\n",
    "#example\n",
    "\n",
    "a = 10\n",
    "b = 0\n",
    "c = a/b   # ZeroDivisionError: division by zero\n",
    "\n",
    "'''\n",
    "OverflowError: This exception is raised when a mathematical operation overflows the maximum representable value for a numeric type. \n",
    "'''\n",
    "#For example:\n",
    "a = sys.maxsize\n",
    "b = a * 10   # OverflowError: int too large to convert to float\n"
   ]
  },
  {
   "cell_type": "markdown",
   "id": "5316106e-0cf2-438f-9524-3fe252564d0f",
   "metadata": {},
   "source": [
    "Q4. Why LookupError class is used? Explain with an example KeyError and IndexError."
   ]
  },
  {
   "cell_type": "code",
   "execution_count": 10,
   "id": "a3f7a71e-93e8-4969-8b13-6e7916bc33c9",
   "metadata": {},
   "outputs": [
    {
     "ename": "KeyError",
     "evalue": "'d'",
     "output_type": "error",
     "traceback": [
      "\u001b[0;31m---------------------------------------------------------------------------\u001b[0m",
      "\u001b[0;31mKeyError\u001b[0m                                  Traceback (most recent call last)",
      "Cell \u001b[0;32mIn[10], line 10\u001b[0m\n\u001b[1;32m      7\u001b[0m \u001b[38;5;66;03m#KeyError\u001b[39;00m\n\u001b[1;32m      9\u001b[0m my_dict \u001b[38;5;241m=\u001b[39m {\u001b[38;5;124m'\u001b[39m\u001b[38;5;124ma\u001b[39m\u001b[38;5;124m'\u001b[39m: \u001b[38;5;241m1\u001b[39m, \u001b[38;5;124m'\u001b[39m\u001b[38;5;124mb\u001b[39m\u001b[38;5;124m'\u001b[39m: \u001b[38;5;241m2\u001b[39m, \u001b[38;5;124m'\u001b[39m\u001b[38;5;124mc\u001b[39m\u001b[38;5;124m'\u001b[39m: \u001b[38;5;241m3\u001b[39m}\n\u001b[0;32m---> 10\u001b[0m \u001b[38;5;28mprint\u001b[39m(\u001b[43mmy_dict\u001b[49m\u001b[43m[\u001b[49m\u001b[38;5;124;43m'\u001b[39;49m\u001b[38;5;124;43md\u001b[39;49m\u001b[38;5;124;43m'\u001b[39;49m\u001b[43m]\u001b[49m) \u001b[38;5;66;03m# raises KeyError: 'd'\u001b[39;00m\n\u001b[1;32m     12\u001b[0m \u001b[38;5;66;03m#IndexError\u001b[39;00m\n\u001b[1;32m     14\u001b[0m my_list \u001b[38;5;241m=\u001b[39m [\u001b[38;5;241m1\u001b[39m, \u001b[38;5;241m2\u001b[39m, \u001b[38;5;241m3\u001b[39m]\n",
      "\u001b[0;31mKeyError\u001b[0m: 'd'"
     ]
    }
   ],
   "source": [
    "#LookupError\n",
    "'''\n",
    "LookupError is a built-in Python exception class that serves as the base class for errors raised when a lookup or indexing operation fails.\n",
    "It is used when an operation that requires finding or accessing an element fails due to an invalid key or index.\n",
    "\n",
    "'''\n",
    "#KeyError\n",
    "\n",
    "my_dict = {'a': 1, 'b': 2, 'c': 3}\n",
    "print(my_dict['d']) # raises KeyError: 'd'\n",
    "\n",
    "#IndexError\n",
    "\n",
    "my_list = [1, 2, 3]\n",
    "print(my_list[3]) # raises IndexError: list index out of range\n",
    "\n"
   ]
  },
  {
   "cell_type": "markdown",
   "id": "28a0fc87-86af-4f3e-8eb4-3ea2e29f54ed",
   "metadata": {},
   "source": [
    "Q5. Explain ImportError. What is ModuleNotFoundError?"
   ]
  },
  {
   "cell_type": "code",
   "execution_count": 14,
   "id": "699deb4a-2e4a-437e-9284-f396e10e8b25",
   "metadata": {},
   "outputs": [
    {
     "ename": "ModuleNotFoundError",
     "evalue": "No module named 'mymodule'",
     "output_type": "error",
     "traceback": [
      "\u001b[0;31m---------------------------------------------------------------------------\u001b[0m",
      "\u001b[0;31mModuleNotFoundError\u001b[0m                       Traceback (most recent call last)",
      "Cell \u001b[0;32mIn[14], line 18\u001b[0m\n\u001b[1;32m     10\u001b[0m \u001b[38;5;124;03m'''\u001b[39;00m\n\u001b[1;32m     11\u001b[0m \u001b[38;5;124;03mModuleNotFoundError is a subclass of ImportError that was introduced in Python 3.6. \u001b[39;00m\n\u001b[1;32m     12\u001b[0m \u001b[38;5;124;03mIt is specifically raised when a module is not found in the search path.\u001b[39;00m\n\u001b[1;32m     13\u001b[0m \u001b[38;5;124;03mThis is a more specific error message than the generic ImportError, which can be raised for other reasons as well.\u001b[39;00m\n\u001b[1;32m     14\u001b[0m \n\u001b[1;32m     15\u001b[0m \u001b[38;5;124;03m'''\u001b[39;00m\n\u001b[1;32m     16\u001b[0m \u001b[38;5;66;03m#example\u001b[39;00m\n\u001b[0;32m---> 18\u001b[0m \u001b[38;5;28;01mimport\u001b[39;00m \u001b[38;5;21;01mmymodule\u001b[39;00m \u001b[38;5;66;03m# raises ImportError: No module named 'mymodule'\u001b[39;00m\n",
      "\u001b[0;31mModuleNotFoundError\u001b[0m: No module named 'mymodule'"
     ]
    }
   ],
   "source": [
    "#ImportError\n",
    "'''\n",
    "ImportError is a built-in Python exception class that is raised when an import statement fails to load a module.\n",
    "This can happen for various reasons, such as the module not being installed, not being in the search path,\n",
    "or having syntax errors.\n",
    "'''\n",
    "\n",
    "#ModuleNotFoundError\n",
    "\n",
    "'''\n",
    "ModuleNotFoundError is a subclass of ImportError that was introduced in Python 3.6. \n",
    "It is specifically raised when a module is not found in the search path.\n",
    "This is a more specific error message than the generic ImportError, which can be raised for other reasons as well.\n",
    "\n",
    "'''\n",
    "#example\n",
    "\n",
    "import mymodule # raises ImportError: No module named 'mymodule'\n",
    "\n"
   ]
  },
  {
   "cell_type": "markdown",
   "id": "95d5704d-cb6a-4212-abf2-6992a476bbcc",
   "metadata": {},
   "source": [
    "Q6. List down some best practices for exception handling in python."
   ]
  },
  {
   "cell_type": "code",
   "execution_count": null,
   "id": "fba440b1-88cd-43fb-97b6-e5ea8027568a",
   "metadata": {},
   "outputs": [],
   "source": [
    "#1\n",
    "\n",
    "'''\n",
    "Be specific about the exceptions you catch: Catching broad exceptions like Exception or \n",
    "BaseException can hide important errors and make debugging harder. Instead, catch only the specific \n",
    "exceptions that you know how to handle.\n",
    "'''\n",
    "#2\n",
    "\n",
    "'''\n",
    "Keep exception handling code separate: Don't mix exception handling code with the main logic of your program. \n",
    "Instead, keep exception handling in a separate block or function.\n",
    "'''\n",
    "\n",
    "#3\n",
    "'''\n",
    "Use finally for cleanup: \n",
    "Use finally to clean up resources like files, sockets, and database connections, whether or not an exception was raised.\n",
    "'''\n",
    "#4\n",
    "'''\n",
    "Avoid using bare except: Avoid using bare except statements, as they catch all exceptions,\n",
    "including system exceptions that you can't handle. Instead, catch only the specific exceptions that you know how to handle.\n",
    "\n",
    "Use assert for internal errors: Use assert to catch programming errors and ensure that your code is correct. \n",
    "This is especially useful for checking preconditions, postconditions, and invariants.\n",
    "\n",
    "Follow the EAFP principle: In Python, it's often easier to ask for forgiveness than permission (EAFP).\n",
    "This means that you should try to do something and handle the exception if it fails, rather than checking \n",
    "first if it's possible and then doing it.\n",
    "'''"
   ]
  }
 ],
 "metadata": {
  "kernelspec": {
   "display_name": "Python 3 (ipykernel)",
   "language": "python",
   "name": "python3"
  },
  "language_info": {
   "codemirror_mode": {
    "name": "ipython",
    "version": 3
   },
   "file_extension": ".py",
   "mimetype": "text/x-python",
   "name": "python",
   "nbconvert_exporter": "python",
   "pygments_lexer": "ipython3",
   "version": "3.10.8"
  }
 },
 "nbformat": 4,
 "nbformat_minor": 5
}
