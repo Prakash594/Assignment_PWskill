{
 "cells": [
  {
   "cell_type": "markdown",
   "id": "a17987a4-fee4-4659-b245-dd2370bacc6b",
   "metadata": {},
   "source": [
    "Q1) Which keyword is used to create a function? Create a function to return a list of odd numbers in the\n",
    "range of 1 to 25.\n"
   ]
  },
  {
   "cell_type": "code",
   "execution_count": 1,
   "id": "4d432f03-dc58-404a-b07b-bdaf0ca2450a",
   "metadata": {},
   "outputs": [
    {
     "data": {
      "text/plain": [
       "[1, 3, 5, 7, 9, 11, 13, 15, 17, 19, 21, 23]"
      ]
     },
     "execution_count": 1,
     "metadata": {},
     "output_type": "execute_result"
    }
   ],
   "source": [
    "# def keyword use to create function\n",
    "\n",
    "def fun():\n",
    "    li=[]\n",
    "    for i in range(1,25):\n",
    "        if i%2!=0:\n",
    "            li.append(i)\n",
    "    return li\n",
    "fun()"
   ]
  },
  {
   "cell_type": "markdown",
   "id": "c9d8f31b-38ad-40f0-901f-fa0ec40b2b99",
   "metadata": {},
   "source": [
    "Q3. What is an iterator in python? Name the method used to initialise the iterator object and the method\n",
    "used for iteration. Use these methods to print the first five elements of the given list [2, 4, 6, 8, 10, 12, 14,\n",
    "16, 18, 20]."
   ]
  },
  {
   "cell_type": "code",
   "execution_count": 2,
   "id": "6d30f5a7-183f-465f-974d-58f19722bc99",
   "metadata": {},
   "outputs": [
    {
     "name": "stdout",
     "output_type": "stream",
     "text": [
      "2\n",
      "4\n",
      "6\n",
      "8\n",
      "10\n"
     ]
    }
   ],
   "source": [
    "''' An iterator is an object that contains a countable number of values.\n",
    "An iterator is an object that can be iterated upon, meaning that you can traverse through all the values.\n",
    "Technically, in Python, an iterator is an object which implements the iterator protocol, which consist of the methods __iter__() and __next__().\n",
    "'''\n",
    "\n",
    "\n",
    "\n",
    "myli = [2, 4, 6, 8, 10, 12, 14,16, 18, 20]\n",
    "myit = iter(myli)\n",
    "\n",
    "print(next(myit))\n",
    "print(next(myit))\n",
    "print(next(myit))\n",
    "print(next(myit))\n",
    "print(next(myit))\n"
   ]
  },
  {
   "cell_type": "markdown",
   "id": "6070633f-b7a6-4877-8367-6b900f17a60b",
   "metadata": {},
   "source": [
    "Q4. What is a generator function in python? Why yield keyword is used? Give an example of a generator\n",
    "function."
   ]
  },
  {
   "cell_type": "code",
   "execution_count": 3,
   "id": "8dd7c9c8-1bea-4296-bd29-826f7961cebd",
   "metadata": {},
   "outputs": [
    {
     "name": "stdout",
     "output_type": "stream",
     "text": [
      "0\n",
      "2\n",
      "4\n",
      "6\n",
      "8\n"
     ]
    }
   ],
   "source": [
    "'''A generator is a special type of function which does not return a single value,\n",
    "instead, it returns an iterator object with a sequence of values. In a generator function,\n",
    "a yield statement is used rather than a return statement. \n",
    "The following is a simple generator function'''\n",
    "\n",
    "\n",
    "'''\n",
    "yield keyword is used to create a generator function. A type of function that is memory efficient and can be used like an iterator object. In layman terms, \n",
    "the yield keyword will turn any expression that is given with it into a generator object and return it to the caller.\n",
    "'''\n",
    "\n",
    "def simple():  \n",
    "    for i in range(10):  \n",
    "        if(i%2==0):  \n",
    "             yield i  \n",
    "  \n",
    "for i in simple():  \n",
    "    print(i)  \n",
    "\n"
   ]
  },
  {
   "cell_type": "markdown",
   "id": "af3b059c-f796-4726-a231-104ced7d82fa",
   "metadata": {},
   "source": [
    "Q5. Create a generator function for prime numbers less than 1000. Use the next() method to print the\n",
    "first 20 prime numbers."
   ]
  },
  {
   "cell_type": "code",
   "execution_count": 4,
   "id": "88e8ad2f-1d6e-41d0-8edf-ca73d9ffbbd8",
   "metadata": {},
   "outputs": [
    {
     "name": "stdout",
     "output_type": "stream",
     "text": [
      "2 3 5 7 11 13 17 19 23 29 31 37 41 43 47 53 59 61 67 71 73 79 83 89 97 101 103 107 109 113 127 131 137 139 149 151 157 163 167 173 179 181 191 193 197 199 211 223 227 229 233 239 241 251 257 263 269 271 277 281 283 293 307 311 313 317 331 337 347 349 353 359 367 373 379 383 389 397 401 409 419 421 431 433 439 443 449 457 461 463 467 479 487 491 499 503 509 521 523 541 547 557 563 569 571 577 587 593 599 601 607 613 617 619 631 641 643 647 653 659 661 673 677 683 691 701 709 719 727 733 739 743 751 757 761 769 773 787 797 809 811 821 823 827 829 839 853 857 859 863 877 881 883 887 907 911 919 929 937 941 947 953 967 971 977 983 991 997 "
     ]
    }
   ],
   "source": [
    "\n",
    "def simple():\n",
    "    count=0\n",
    "    for i in range(2,1000):  \n",
    "        for j in range(2,1000):\n",
    "            if i%j==0:\n",
    "                break\n",
    "        if i==j:\n",
    "            print(i,end=\" \")\n",
    "       \n",
    "                \n",
    "simple()\n",
    "                "
   ]
  },
  {
   "cell_type": "markdown",
   "id": "1d6cec4b-dc9a-4a88-a804-ce20c64421bb",
   "metadata": {},
   "source": [
    "Q6. Write a python program to print the first 10 Fibonacci numbers using a while loop."
   ]
  },
  {
   "cell_type": "code",
   "execution_count": 5,
   "id": "9d0ecc07-5323-4d7e-ba67-8a59a2d3ef2f",
   "metadata": {},
   "outputs": [
    {
     "name": "stdout",
     "output_type": "stream",
     "text": [
      "0 1 1 2 3 5 8 13 21 34 55 "
     ]
    }
   ],
   "source": [
    "a=-1\n",
    "b=1\n",
    "i=0\n",
    "while(i<=10):\n",
    "    c=a+b\n",
    "    print(c,end=\" \")\n",
    "    a=b\n",
    "    b=c\n",
    "    i=i+1"
   ]
  },
  {
   "cell_type": "markdown",
   "id": "16b337ab-6a74-4876-8c73-c179cb028e7f",
   "metadata": {},
   "source": [
    "Q7. Write a List Comprehension to iterate through the given string: ‘pwskills’.\n",
    "Expected output: ['p', 'w', 's', 'k', 'i', 'l', 'l', 's']"
   ]
  },
  {
   "cell_type": "code",
   "execution_count": 6,
   "id": "1f0aa967-9b65-4f31-ac46-1e877b80a19f",
   "metadata": {},
   "outputs": [
    {
     "name": "stdout",
     "output_type": "stream",
     "text": [
      "['p', 'w', 's', 'k', 'i', 'l', 'l', 's']\n"
     ]
    }
   ],
   "source": [
    "string='pwskills'\n",
    "li=[]\n",
    "for i in string:\n",
    "    li.append(i)\n",
    "print(li)\n",
    "    "
   ]
  },
  {
   "cell_type": "markdown",
   "id": "9d1dac5c-b6d0-4c9e-85da-0afd2f7cb256",
   "metadata": {},
   "source": [
    "Q8. Write a python program to check whether a given number is Palindrome or not using a while loop."
   ]
  },
  {
   "cell_type": "code",
   "execution_count": null,
   "id": "84cf2312-3c6d-40a5-b08e-e4eedc21a7ee",
   "metadata": {},
   "outputs": [],
   "source": [
    "num = input(\"Enter Number->\")\n",
    "res=''\n",
    "\n",
    "for i in num[::-1]:\n",
    "    res=res+i\n",
    "if num==res:\n",
    "    print(\"given number is Palindrome\")\n",
    "else:\n",
    "    print(\"given number not a Palindrome\")"
   ]
  },
  {
   "cell_type": "markdown",
   "id": "9902c785-8da6-4dbf-b9af-08f45fdf8e02",
   "metadata": {},
   "source": [
    "Q9. Write a code to print odd numbers from 1 to 100 using list comprehension."
   ]
  },
  {
   "cell_type": "code",
   "execution_count": null,
   "id": "37b91c2f-fb4a-4b0f-ac03-1a47721d5001",
   "metadata": {},
   "outputs": [],
   "source": [
    "res = [x for x in range(1,101)]\n",
    "print(sum(res))\n"
   ]
  },
  {
   "cell_type": "code",
   "execution_count": null,
   "id": "6cbbd99d-cb2e-421a-bc74-792b5ec25912",
   "metadata": {},
   "outputs": [],
   "source": []
  }
 ],
 "metadata": {
  "kernelspec": {
   "display_name": "Python 3 (ipykernel)",
   "language": "python",
   "name": "python3"
  },
  "language_info": {
   "codemirror_mode": {
    "name": "ipython",
    "version": 3
   },
   "file_extension": ".py",
   "mimetype": "text/x-python",
   "name": "python",
   "nbconvert_exporter": "python",
   "pygments_lexer": "ipython3",
   "version": "3.10.8"
  }
 },
 "nbformat": 4,
 "nbformat_minor": 5
}
