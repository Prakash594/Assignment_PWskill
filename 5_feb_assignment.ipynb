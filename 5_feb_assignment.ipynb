{
 "cells": [
  {
   "cell_type": "markdown",
   "id": "cc11e3b5-fafb-499b-bdc3-a4f588a3bbd1",
   "metadata": {},
   "source": [
    "Q1. Explain Class and Object with respect to Object-Oriented Programming. Give a suitable example."
   ]
  },
  {
   "cell_type": "code",
   "execution_count": null,
   "id": "4e1c4131-a89b-48eb-8aa4-25444f509773",
   "metadata": {},
   "outputs": [
    {
     "name": "stdout",
     "output_type": "stream",
     "text": [
      "mammal\n",
      "I'm a mammal\n",
      "I'm a dog\n"
     ]
    }
   ],
   "source": [
    "# class\n",
    "\n",
    "'''\n",
    "A class is a user-defined blueprint or prototype from which objects are created.\n",
    "Classes provide a means of bundling data and functionality together. Creating a new class creates a new type of object, \n",
    "allowing new instances of that type to be made. Each class instance can have attributes attached to it for maintaining its state. \n",
    "Class instances can also have methods (defined by their class) for modifying their state.\n",
    "'''\n",
    "\n",
    "#object\n",
    "'''\n",
    "An Object is an instance of a Class. A class is like a blueprint while an instance is a copy of the class with actual values.\n",
    "It’s not an idea anymore, it’s an actual dog, like a dog of breed pug who’s seven years old. \n",
    "You can have many dogs to create many different instances, but without the class as a guide,\n",
    "you would be lost, not knowing what information is required.\n",
    "An object consists of : \n",
    "\n",
    "State: It is represented by the attributes of an object. It also reflects the properties of an object.\n",
    "Behaviour: It is represented by the methods of an object. It also reflects the response of an object to other objects.\n",
    "Identity: It gives a unique name to an object and enables one object to interact with other objects.\n",
    "'''\n",
    "\n",
    "\n",
    "#example\n",
    "\n",
    "class Dog:\n",
    "\n",
    "\tattr1 = \"mammal\"\n",
    "\tattr2 = \"dog\"\n",
    "\tdef fun(self):\n",
    "\t\tprint(\"I'm a\", self.attr1)\n",
    "\t\tprint(\"I'm a\", self.attr2)\n",
    "\n",
    "Rodger = Dog()\n",
    "print(Rodger.attr1)\n",
    "Rodger.fun()\n",
    "\n"
   ]
  },
  {
   "cell_type": "markdown",
   "id": "d2a2bca2-3fd1-4f9b-9dd4-7136ac63923d",
   "metadata": {},
   "source": [
    "Q2. Name the four pillars of OOPs."
   ]
  },
  {
   "cell_type": "code",
   "execution_count": 4,
   "id": "92132582-0618-47d3-810b-b282d312d156",
   "metadata": {},
   "outputs": [
    {
     "data": {
      "text/plain": [
       "'Inheritance, Polymorphism, Encapsulation and Abstraction'"
      ]
     },
     "execution_count": 4,
     "metadata": {},
     "output_type": "execute_result"
    }
   ],
   "source": [
    "'''Inheritance, Polymorphism, Encapsulation and Abstraction'''"
   ]
  },
  {
   "cell_type": "markdown",
   "id": "63768294-287e-46c8-a859-9c8e0d23f984",
   "metadata": {},
   "source": [
    "Q3. Explain why the __init__() function is used. Give a suitable example."
   ]
  },
  {
   "cell_type": "code",
   "execution_count": 6,
   "id": "161b768d-5563-4f40-b6d8-7994bbdae236",
   "metadata": {},
   "outputs": [
    {
     "name": "stdout",
     "output_type": "stream",
     "text": [
      "John\n",
      "36\n"
     ]
    }
   ],
   "source": [
    "#--init--\n",
    "\n",
    "'''\n",
    "The examplesabove are classes and objects in their simplest form, and are not really useful in real life applications.\n",
    "To understand the meaning of classes we have to understand the built-in __init__() function.\n",
    "All classes have a function called __init__(), which is always executed when the class is being initiated.\n",
    "Use the __init__() function to assign values to object properties, or other operations that are necessary to do when the object is being created:\n",
    "'''\n",
    "\n",
    "#example\n",
    "class Person:\n",
    "  def __init__(self, name, age):\n",
    "    self.name = name\n",
    "    self.age = age\n",
    "\n",
    "p1 = Person(\"John\", 36)\n",
    "\n",
    "print(p1.name)\n",
    "print(p1.age)\n"
   ]
  },
  {
   "cell_type": "markdown",
   "id": "cf9ca661-b2d1-412c-8b1c-90d7737d2e20",
   "metadata": {},
   "source": [
    "Q4. Why self is used in OOPs?"
   ]
  },
  {
   "cell_type": "code",
   "execution_count": null,
   "id": "82322a3c-1bb9-47ad-91ca-059a8674bc7b",
   "metadata": {},
   "outputs": [],
   "source": [
    "#self\n",
    "\n",
    "'''\n",
    "The self parameter is a reference to the current instance of the class, and is used to access variables that belongs to the class.\n",
    "It does not have to be named self , you can call it whatever you like,\n",
    "but it has to be the first parameter of any function in the class:\n",
    "'''"
   ]
  },
  {
   "cell_type": "markdown",
   "id": "53fe7208-5d48-40ce-ba45-40f14acfb280",
   "metadata": {},
   "source": [
    "Q5. What is inheritance? Give an example for each type of inheritance."
   ]
  },
  {
   "cell_type": "code",
   "execution_count": 7,
   "id": "4f0fb1e9-b119-4444-8dbf-5bed6511b01f",
   "metadata": {},
   "outputs": [
    {
     "name": "stdout",
     "output_type": "stream",
     "text": [
      "John Doe\n"
     ]
    }
   ],
   "source": [
    "#Inheritance\n",
    "'''\n",
    "Inheritance allows us to define a class that inherits all the methods and properties from another class.\n",
    "\n",
    "Parent class is the class being inherited from, also called base class.\n",
    "\n",
    "Child class is the class that inherits from another class, also called derived class.\n",
    "'''\n",
    "\n",
    "#example\n",
    "class Person:\n",
    "  def __init__(self, fname, lname):\n",
    "    self.firstname = fname\n",
    "    self.lastname = lname\n",
    "\n",
    "  def printname(self):\n",
    "    print(self.firstname, self.lastname)\n",
    "\n",
    "\n",
    "x = Person(\"John\", \"Doe\")\n",
    "x.printname()\n",
    "\n",
    "class Student(Person):\n",
    "  pass\n"
   ]
  },
  {
   "cell_type": "code",
   "execution_count": null,
   "id": "8803070c-e98b-471c-a232-a3268d4d111b",
   "metadata": {},
   "outputs": [],
   "source": []
  }
 ],
 "metadata": {
  "kernelspec": {
   "display_name": "Python 3 (ipykernel)",
   "language": "python",
   "name": "python3"
  },
  "language_info": {
   "codemirror_mode": {
    "name": "ipython",
    "version": 3
   },
   "file_extension": ".py",
   "mimetype": "text/x-python",
   "name": "python",
   "nbconvert_exporter": "python",
   "pygments_lexer": "ipython3",
   "version": "3.10.8"
  }
 },
 "nbformat": 4,
 "nbformat_minor": 5
}
