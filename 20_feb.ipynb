{
 "cells": [
  {
   "cell_type": "markdown",
   "id": "2c2f700e-9775-41c7-9758-b3e9b7f9cabd",
   "metadata": {},
   "source": [
    "Q1. Explain GET and POST methods."
   ]
  },
  {
   "cell_type": "code",
   "execution_count": null,
   "id": "2a3c7a04-3959-4fab-a078-fefc757b0867",
   "metadata": {},
   "outputs": [],
   "source": [
    "'''\n",
    "GET: The GET method is used to retrieve data from the server. When a GET request is made, \n",
    "the data is usually sent in the URL as a query string. \n",
    "The query string consists of key-value pairs that are separated by an ampersand (&). \n",
    "For example, a GET request to retrieve information about a product might look like this:\n",
    "\n",
    "https://example.com/product?id=123\n",
    "\n",
    "In this example, the server would return the product information for the product with ID 123.\n",
    "\n",
    "The GET method should only be used for requests that are idempotent, \n",
    "meaning that the request can be repeated without causing any additional side effects.\n",
    "GET requests should not be used to update data on the server.\n",
    "'''"
   ]
  },
  {
   "cell_type": "markdown",
   "id": "042647c5-9c8c-44d2-9425-6d7f776cbffa",
   "metadata": {},
   "source": [
    "Q2. Why is request used in Flask?"
   ]
  },
  {
   "cell_type": "code",
   "execution_count": null,
   "id": "cae4d03e-8aac-4bae-b989-ebbeabeae554",
   "metadata": {},
   "outputs": [],
   "source": [
    "'''\n",
    "In Flask, the request object is used to access incoming request data, such as form data or query parameters, \n",
    "and to provide additional information about the current request, such as the HTTP method, headers, and cookies.\n",
    "\n",
    "Here are some of the common use cases for the request object in Flask:\n",
    "\n",
    "Accessing form data: If a user submits a form on a web page, the request object can be used to access the form data that was submitted. \n",
    "The form data can be accessed using the request.form dictionary, which contains key-value pairs for each form field.\n",
    "\n",
    "Accessing query parameters: If a URL contains query parameters, such as ?page=2, the request object can be used to access these parameters. \n",
    "The query parameters can be accessed using the request.args dictionary, which contains key-value pairs for each query parameter.\n",
    "\n",
    "Checking the HTTP method: The request object can be used to determine the HTTP method that was used for the current request.\n",
    "For example, request.method will return \"GET\" for a GET request, or \"POST\" for a POST request.\n",
    "\n",
    "Accessing headers and cookies: The request object can be used to access the HTTP headers and cookies that were sent with the request. \n",
    "For example, request.headers is a dictionary that contains all of the headers for the current request, while request.\n",
    "cookies is a dictionary that contains all of the cookies for the current request.\n",
    "'''"
   ]
  },
  {
   "cell_type": "markdown",
   "id": "ed726b6a-1beb-43d3-b177-eb4e9c9a5bbb",
   "metadata": {},
   "source": [
    "Q3. Why is redirect() used in Flask?"
   ]
  },
  {
   "cell_type": "code",
   "execution_count": null,
   "id": "22fe436a-6af1-4ceb-a236-a45673c1cedc",
   "metadata": {},
   "outputs": [],
   "source": [
    "'''\n",
    "In Flask, the redirect() function is used to redirect the user to a different URL, typically after the user submits a\n",
    "form or performs some other action on a web page.\n",
    "\n",
    "Here are some of the common use cases for the redirect() function in Flask:\n",
    "\n",
    "Form submissions: If a user submits a form on a web page, the redirect() function can be used to redirect the user to a different URL\n",
    "after the form data has been processed. For example, if a user submits a login form, the server might redirect the user to a dashboard \n",
    "page after the login is successful.\n",
    "\n",
    "Authentication and authorization: If a user tries to access a protected page without being authenticated or authorized, the redirect()\n",
    "function can be used to redirect the user to a login page or an error page.\n",
    "\n",
    "Changing URLs: If a website changes the URL structure of its pages, the redirect() function can be used to redirect users \n",
    "from the old URLs to the new URLs. This helps to prevent broken links and ensures that users can still access the content they\n",
    "are looking for.\n",
    "'''"
   ]
  },
  {
   "cell_type": "markdown",
   "id": "4834eae7-584d-40d5-9e56-131aae81d9f8",
   "metadata": {},
   "source": [
    "Q4. What are templates in Flask? Why is the render_template() function used?"
   ]
  },
  {
   "cell_type": "code",
   "execution_count": null,
   "id": "58cbb9b5-7601-42f4-8a8b-8f02d81e97e8",
   "metadata": {},
   "outputs": [],
   "source": [
    "'''\n",
    "In Flask, templates are used to generate dynamic HTML pages that can display data from the server or respond to user input.\n",
    "Templates are written in a templating language, such as Jinja2, which allows for dynamic content and control flow.\n",
    "\n",
    "Templates in Flask are typically stored in a templates directory within the Flask application,\n",
    "and are rendered using the render_template() function.\n",
    "\n",
    "The render_template() function is used to render a template and generate an HTML response that can be sent back to the user's browser.\n",
    "The function takes the name of the template file as its first argument, and any additional arguments that should be passed to the template \n",
    "as keyword arguments.\n",
    "'''\n",
    "#example\n",
    "from flask import Flask, render_template\n",
    "\n",
    "app = Flask(__name__)\n",
    "\n",
    "@app.route('/')\n",
    "def index():\n",
    "    return render_template('index.html', name='John')\n",
    "\n",
    "if __name__ == '__main__':\n",
    "    app.run()\n"
   ]
  },
  {
   "cell_type": "markdown",
   "id": "b9b788db-4972-4fd0-a2aa-76e2db89c3b0",
   "metadata": {},
   "source": [
    "Q5. Create a simple API. Use Postman to test it. Attach the screenshot of the output in the Jupyter Notebook"
   ]
  },
  {
   "cell_type": "code",
   "execution_count": null,
   "id": "3f37cd8b-056c-48b7-83ae-f7765ca3e973",
   "metadata": {},
   "outputs": [],
   "source": []
  }
 ],
 "metadata": {
  "kernelspec": {
   "display_name": "Python 3 (ipykernel)",
   "language": "python",
   "name": "python3"
  },
  "language_info": {
   "codemirror_mode": {
    "name": "ipython",
    "version": 3
   },
   "file_extension": ".py",
   "mimetype": "text/x-python",
   "name": "python",
   "nbconvert_exporter": "python",
   "pygments_lexer": "ipython3",
   "version": "3.10.8"
  }
 },
 "nbformat": 4,
 "nbformat_minor": 5
}
