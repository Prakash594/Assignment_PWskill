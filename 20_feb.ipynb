{
 "cells": [
  {
   "cell_type": "markdown",
   "id": "2c2f700e-9775-41c7-9758-b3e9b7f9cabd",
   "metadata": {},
   "source": [
    "Q1. Explain GET and POST methods."
   ]
  },
  {
   "cell_type": "code",
   "execution_count": null,
   "id": "2a3c7a04-3959-4fab-a078-fefc757b0867",
   "metadata": {},
   "outputs": [],
   "source": [
    "#get\n",
    "\n",
    "'''\n",
    "In Flask, the GET method is used to request data from a specified resource. When a client sends a GET request to the server,\n",
    "the server responds by returning the requested data in the form of a response object.\n",
    "\n",
    "To define a GET method in Flask, you can use the route() decorator with the methods parameter set to ['GET']. Here's an example:\n",
    "\n",
    "ou can also access query parameters in a GET request using Flask's request object. \n",
    "Query parameters are key-value pairs that are appended to the end of a URL, separated by a question mark (?). \n",
    "For example, if the\n",
    "'''\n",
    "from flask import Flask, request\n",
    "\n",
    "app = Flask(__name__)\n",
    "\n",
    "@app.route('/', methods=['GET'])\n",
    "def hello():\n",
    "    name = request.args.get('name')\n",
    "    age = request.args.get('age')\n",
    "    return f'Hello, {name}! You are {age} years old.'\n",
    "\n",
    "#URL is http://example.com/?name=John&age=30, the query parameters are name=John and age=30.\n",
    "\n",
    "\n",
    "#post\n",
    "'''\n",
    "In Flask, the POST method is used to submit data to a specified resource. When a client sends a POST request to the server,\n",
    "the server responds by processing the submitted data and returning a response object.\n",
    "\n",
    "To define a POST method in Flask, you can use the route() decorator with the methods parameter set to ['POST']. Here's an example:\n",
    "'''\n",
    "from flask import Flask, request\n",
    "\n",
    "app = Flask(__name__)\n",
    "\n",
    "@app.route('/', methods=['POST'])\n",
    "def process_data():\n",
    "    data = request.form.get('data')\n",
    "    # process the data\n",
    "    return 'Data received!'\n",
    "'''\n",
    "In this example, we've defined a function called process_data() and used the route() decorator to specify that it should\n",
    "respond to the root URL ('/') with a POST request. When a user submits data to the root URL of the Flask app using a POST request,\n",
    "Flask will call the process_data() function and pass it the submitted data.\n",
    "\n",
    "To access the submitted data in Flask, you can use the request.form.get() method. This method returns the value of a\n",
    "form field with the specified name. For example, if the submitted form contains a field named data, you can access\n",
    "its value using request.form.get('data').\n",
    "\n",
    "After processing the submitted data, the process_data() function returns a string indicating that the data was received.\n",
    "You can customize this response based on your specific use case.\n",
    "\n",
    "Note that to submit data to a Flask app using a POST request, you need to use an HTML form or an API client \n",
    "that can send POST requests.\n",
    "'''"
   ]
  },
  {
   "cell_type": "markdown",
   "id": "042647c5-9c8c-44d2-9425-6d7f776cbffa",
   "metadata": {},
   "source": [
    "Q2. Why is request used in Flask?"
   ]
  },
  {
   "cell_type": "code",
   "execution_count": null,
   "id": "cae4d03e-8aac-4bae-b989-ebbeabeae554",
   "metadata": {},
   "outputs": [],
   "source": [
    "'''\n",
    "The request object is used in Flask to access data submitted with an HTTP request.\n",
    "When a client sends a request to a Flask app, the app receives the request data in the form of an environ dictionary.\n",
    "The request object is a high-level wrapper around this dictionary, providing a convenient interface for\n",
    "accessing and manipulating the request data.\n",
    "'''\n",
    "'''\n",
    "1.\n",
    "\n",
    "Accessing form data: When a client submits an HTML form to a Flask app using a POST request, \n",
    "the form data is sent in the body of the request. You can access this data in Flask using the request.form dictionary,\n",
    "which contains the values of all form fields submitted with the request.\n",
    "\n",
    "2.\n",
    "\n",
    "Accessing query parameters: Query parameters are key-value pairs that are appended to the end of a URL, \n",
    "separated by a question mark (?). You can access these parameters in Flask using the request.args dictionary,\n",
    "which contains the values of all query parameters submitted with the request.\n",
    "\n",
    "3.\n",
    "\n",
    "Accessing headers: HTTP headers are metadata sent with the request that provide additional information about the request, \n",
    "such as the user agent, content type, and accepted languages. You can access the headers in Flask using the request.\n",
    "headers dictionary, \n",
    "which contains the values of all headers submitted with the request.\n",
    "\n",
    "4.\n",
    "Accessing cookies: Cookies are small pieces of data sent with the request that are stored on the client's computer. \n",
    "You can access the cookies in Flask using the request.cookies dictionary, \n",
    "which contains the values of all cookies submitted with the request."
   ]
  },
  {
   "cell_type": "markdown",
   "id": "ed726b6a-1beb-43d3-b177-eb4e9c9a5bbb",
   "metadata": {},
   "source": [
    "Q3. Why is redirect() used in Flask?"
   ]
  },
  {
   "cell_type": "code",
   "execution_count": null,
   "id": "22fe436a-6af1-4ceb-a236-a45673c1cedc",
   "metadata": {},
   "outputs": [],
   "source": [
    "'''\n",
    "The redirect() function is used in Flask to redirect the client to a different URL.\n",
    "When a Flask app receives a request, it can use the redirect() function to send a response that instructs \n",
    "the client to navigate to a different URL.\n",
    "'''\n",
    "\n",
    "'''\n",
    "1.\n",
    "Redirecting after a form submission: When a client submits an HTML form to a Flask app using a POST request, \n",
    "the app typically processes the form data and then sends a response. In many cases, it's desirable to redirect the client to a different URL after processing the form data, such as a thank-you page or a confirmation screen. You can use the redirect() \n",
    "function to send a response that instructs the client to navigate to the desired URL.\n",
    "\n",
    "2.\n",
    "Redirecting based on user authentication: When a Flask app requires user authentication, \n",
    "it may need to redirect the client to a different URL based on whether the user is logged in or not. \n",
    "For example, if a user tries to access a restricted page without being logged in, the app may redirect them to the login page. \n",
    "Conversely, if a user logs in successfully, the app may redirect them to their account dashboard. \n",
    "You can use the redirect() function to send a response that navigates the client to the appropriate URL.\n",
    "\n",
    "3.\n",
    "\n",
    "Redirecting for SEO or usability purposes: In some cases, it may be desirable to use a different \n",
    "URL for a particular page or resource than the one requested by the client. For example, you may want to use a shorter\n",
    "or more descriptive URL for a particular page to improve SEO or usability.\n",
    "You can use the redirect() function to send a response that navigates the client to the desired URL.\n",
    "'''"
   ]
  },
  {
   "cell_type": "markdown",
   "id": "4834eae7-584d-40d5-9e56-131aae81d9f8",
   "metadata": {},
   "source": [
    "Q4. What are templates in Flask? Why is the render_template() function used?"
   ]
  },
  {
   "cell_type": "code",
   "execution_count": null,
   "id": "58cbb9b5-7601-42f4-8a8b-8f02d81e97e8",
   "metadata": {},
   "outputs": [],
   "source": [
    "'''\n",
    "In Flask, templates are used to generate dynamic HTML pages that can display data from the server or respond to user input.\n",
    "Templates are written in a templating language, such as Jinja2, which allows for dynamic content and control flow.\n",
    "\n",
    "Templates in Flask are typically stored in a templates directory within the Flask application,\n",
    "and are rendered using the render_template() function.\n",
    "\n",
    "The render_template() function is used to render a template and generate an HTML response that can be sent back to the user's browser.\n",
    "The function takes the name of the template file as its first argument, and any additional arguments that should be passed to the template \n",
    "as keyword arguments.\n",
    "'''\n",
    "#example\n",
    "from flask import Flask, render_template\n",
    "\n",
    "app = Flask(__name__)\n",
    "\n",
    "@app.route('/')\n",
    "def index():\n",
    "    return render_template('index.html', name='John')\n",
    "\n",
    "if __name__ == '__main__':\n",
    "    app.run()\n"
   ]
  },
  {
   "cell_type": "markdown",
   "id": "b9b788db-4972-4fd0-a2aa-76e2db89c3b0",
   "metadata": {},
   "source": [
    "Q5. Create a simple API. Use Postman to test it. Attach the screenshot of the output in the Jupyter Notebook"
   ]
  },
  {
   "cell_type": "code",
   "execution_count": null,
   "id": "3f37cd8b-056c-48b7-83ae-f7765ca3e973",
   "metadata": {},
   "outputs": [],
   "source": [
    "from flask import Flask,request ,render_template , jsonify\n",
    "app = Flask(__name__)\n",
    "\n",
    "@app.route(\"/postman_test\",methods=['POST'])\n",
    "def calculation():\n",
    "    if (request.method==\"POST\"):\n",
    "        ops=request.json['operation']\n",
    "        num1=int(request.json['num1'])\n",
    "        num2=int(request.json['num2'])\n",
    "        if ops=='add':\n",
    "            r = num1+num2\n",
    "    return jsonify(r)\n",
    "\n",
    "\n",
    "if __name__==\"__main__\":\n",
    "    app.run(host=\"0.0.0.0\")"
   ]
  },
  {
   "cell_type": "markdown",
   "id": "732c51ae-41ce-4080-b881-867903c71d6d",
   "metadata": {},
   "source": [
    "![](API_test.png)"
   ]
  },
  {
   "cell_type": "code",
   "execution_count": null,
   "id": "cd68285f-b61a-4891-99b4-954522ec0955",
   "metadata": {},
   "outputs": [],
   "source": []
  }
 ],
 "metadata": {
  "kernelspec": {
   "display_name": "Python 3 (ipykernel)",
   "language": "python",
   "name": "python3"
  },
  "language_info": {
   "codemirror_mode": {
    "name": "ipython",
    "version": 3
   },
   "file_extension": ".py",
   "mimetype": "text/x-python",
   "name": "python",
   "nbconvert_exporter": "python",
   "pygments_lexer": "ipython3",
   "version": "3.10.8"
  }
 },
 "nbformat": 4,
 "nbformat_minor": 5
}
