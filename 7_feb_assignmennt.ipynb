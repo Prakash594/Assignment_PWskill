{
 "cells": [
  {
   "cell_type": "markdown",
   "id": "8671ccc1-a4c2-4d62-9363-355712c7b754",
   "metadata": {},
   "source": [
    "Q1. You are writing code for a company. The requirement of the company is that you create a python\n",
    "function that will check whether the password entered by the user is correct or not. The function should\n",
    "take the password as input and return the string “Valid Password” if the entered password follows the\n",
    "below-given password guidelines else it should return “Invalid Password”.\n",
    "Note: \n",
    "\n",
    "1. The Password should contain at least two uppercase letters and at least two lowercase letters.\n",
    "2. The Password should contain at least a number and three special characters.\n",
    "3. The length of the password should be 10 characters long."
   ]
  },
  {
   "cell_type": "code",
   "execution_count": null,
   "id": "9799499b-849e-426a-8da7-b8e709f4092e",
   "metadata": {},
   "outputs": [
    {
     "name": "stdin",
     "output_type": "stream",
     "text": [
      "Enter Password-> Pr@k@$H123\n"
     ]
    }
   ],
   "source": [
    "def valid_password(password):\n",
    "    uppercase=0\n",
    "    number=0\n",
    "    special_char=0\n",
    "    lowercase=0\n",
    "    password=input(\"Enter Password->\")\n",
    "    if len(password)==10:\n",
    "        for i in password:\n",
    "            if i.isnumeric():\n",
    "                number=number+1\n",
    "            elif i.isupper():\n",
    "                uppercase=uppercase+1\n",
    "            elif i.islower():\n",
    "                lowercase=lowercase+1\n",
    "            else:\n",
    "                special_char=special_char+1\n",
    "    if number>=1 and uppercase>=2 and lowercase >=2 and special_char>=3 and len(password)==10:\n",
    "        return 'Valid Password'\n",
    "    else:\n",
    "        return 'Invalid Password'\n",
    "password=input(\"Enter Password->\")\n",
    "print(valid_password(password))\n"
   ]
  },
  {
   "cell_type": "markdown",
   "id": "b4fd5b22-706a-40ab-9378-844f5d7f8d0c",
   "metadata": {},
   "source": [
    "Q2. Solve the below-given questions using at least one of the following:\n",
    "\n",
    "1. Lambda function\n",
    "2. Filter function\n",
    "3. Zap function\n",
    "4. List Comprehension\n",
    "\n",
    "Check if the string starts with a particular letter\n",
    "\n",
    "Check if the string is numeric\n",
    "\n",
    "Sort a list of tuples having fruit names and their quantity.[(\"mango\",99),(\"orange\",80), (\"grapes\", 1000)]\n",
    "\n",
    "Find the squares of numbers from 1 to 10\n",
    "\n",
    "Find the cube root of numbers from 1 to 10\n",
    "\n",
    "Check if a given number is even\n",
    "\n",
    "Filter odd numbers from the given list.[1,2,3,4,5,6,7,8,9,10]\n",
    "\n",
    "Sort a list of integers into positive and negative integers lists.[1,2,3,4,5,6,-1,-2,-3,-4,-5,0]"
   ]
  },
  {
   "cell_type": "code",
   "execution_count": 33,
   "id": "20a9afa7-9a7a-4997-b1d0-b3c2c712c9b3",
   "metadata": {},
   "outputs": [
    {
     "name": "stdin",
     "output_type": "stream",
     "text": [
      "Enter String-> akash\n"
     ]
    },
    {
     "name": "stdout",
     "output_type": "stream",
     "text": [
      "The given string Start with a-> akash\n"
     ]
    }
   ],
   "source": [
    "#Check if the string starts with a particular letter\n",
    "string=input(\"Enter String->\")\n",
    "if string.startswith(\"a\"):\n",
    "    print(\"The given string Start with a->\",string)\n",
    "else:\n",
    "    print(\"The given string not Start with a->\",string)\n"
   ]
  },
  {
   "cell_type": "code",
   "execution_count": 36,
   "id": "37a54a7f-3ce5-48ea-8e20-72d96c9e825c",
   "metadata": {},
   "outputs": [
    {
     "name": "stdin",
     "output_type": "stream",
     "text": [
      "Enter Number-> 1236\n"
     ]
    },
    {
     "name": "stdout",
     "output_type": "stream",
     "text": [
      "The given string numeric-> 1236\n"
     ]
    }
   ],
   "source": [
    "#Check if the string is numeric\n",
    "number=input(\"Enter Number->\")\n",
    "if number.isnumeric():\n",
    "    print(\"The given string numeric->\",number)\n",
    "else:\n",
    "    print(\"The given string not numeric->\",number)"
   ]
  },
  {
   "cell_type": "code",
   "execution_count": 37,
   "id": "c8279922-c9a2-49c3-89e1-3e3f2152fc3a",
   "metadata": {},
   "outputs": [
    {
     "name": "stdout",
     "output_type": "stream",
     "text": [
      "[('orange', 80), ('mango', 99), ('grapes', 1000)]\n"
     ]
    }
   ],
   "source": [
    "#Sort a list of tuples having fruit names and their quantity.\n",
    "\n",
    "lis=[(\"mango\",99),(\"orange\",80), (\"grapes\", 1000)]\n",
    "\n",
    "fun = sorted(lis, key=lambda x: x[1])\n",
    "print(fun)\n"
   ]
  },
  {
   "cell_type": "code",
   "execution_count": 47,
   "id": "0a6a9b8f-d520-42af-951f-397215b0b8a2",
   "metadata": {},
   "outputs": [
    {
     "name": "stdout",
     "output_type": "stream",
     "text": [
      "[1, 4, 9, 16, 25, 36, 49, 64, 81, 100]\n"
     ]
    }
   ],
   "source": [
    "#Find the squares of numbers from 1 to 10\n",
    "\n",
    "squares = map(lambda x: x**2, range(1,11))\n",
    "print(list(squares))\n"
   ]
  },
  {
   "cell_type": "code",
   "execution_count": 46,
   "id": "4a25e598-2ace-4b10-a20a-6236608f67a8",
   "metadata": {},
   "outputs": [
    {
     "name": "stdout",
     "output_type": "stream",
     "text": [
      "[1, 8, 27, 64, 125, 216, 343, 512, 729, 1000]\n"
     ]
    }
   ],
   "source": [
    "#Find the cube root of numbers from 1 to 10\n",
    "\n",
    "cube = map(lambda x: x**3, range(1,11))\n",
    "print(list(cube))"
   ]
  },
  {
   "cell_type": "code",
   "execution_count": 58,
   "id": "cffa112f-3e14-49ef-9206-a83c3ba36957",
   "metadata": {},
   "outputs": [
    {
     "name": "stdin",
     "output_type": "stream",
     "text": [
      "Enter a number >>  11\n"
     ]
    },
    {
     "name": "stdout",
     "output_type": "stream",
     "text": [
      "Odd Number\n"
     ]
    }
   ],
   "source": [
    "#Check if a given number is even\n",
    "number = int(input(\"Enter a number >> \"))\n",
    "odd_even = lambda : \"Even Number\" if number % 2 == 0 else \"Odd Number\"\n",
    "print(odd_even())"
   ]
  },
  {
   "cell_type": "code",
   "execution_count": 61,
   "id": "bf3bc6c9-34b5-4770-b1a1-67868a56926f",
   "metadata": {},
   "outputs": [
    {
     "name": "stdout",
     "output_type": "stream",
     "text": [
      "[1, 3, 5, 7, 9]\n"
     ]
    }
   ],
   "source": [
    "#Filter odd numbers from the given list.[1,2,3,4,5,6,7,8,9,10]\n",
    "lis=[1,2,3,4,5,6,7,8,9,10]\n",
    "odd = filter(lambda n: n % 2 == 1, lis)\n",
    "print(list(odd)) \n"
   ]
  },
  {
   "cell_type": "code",
   "execution_count": 63,
   "id": "50c5e4ab-14bf-4494-bbab-ad7fe95ecc31",
   "metadata": {},
   "outputs": [
    {
     "name": "stdout",
     "output_type": "stream",
     "text": [
      "[-5, -4, -3, -2, -1, 0, 1, 2, 3, 4, 5, 6]\n"
     ]
    }
   ],
   "source": [
    "#Sort a list of integers into positive and negative integers lists.[1,2,3,4,5,6,-1,-2,-3,-4,-5,0]\n",
    "\n",
    "li=[1,2,3,4,5,6,-1,-2,-3,-4,-5,0]\n",
    "\n",
    "fun = sorted(li, key=lambda x: x)\n",
    "print(fun)\n"
   ]
  },
  {
   "cell_type": "code",
   "execution_count": null,
   "id": "a45acb26-ab8d-41e0-a796-289caae92407",
   "metadata": {},
   "outputs": [],
   "source": []
  }
 ],
 "metadata": {
  "kernelspec": {
   "display_name": "Python 3 (ipykernel)",
   "language": "python",
   "name": "python3"
  },
  "language_info": {
   "codemirror_mode": {
    "name": "ipython",
    "version": 3
   },
   "file_extension": ".py",
   "mimetype": "text/x-python",
   "name": "python",
   "nbconvert_exporter": "python",
   "pygments_lexer": "ipython3",
   "version": "3.10.8"
  }
 },
 "nbformat": 4,
 "nbformat_minor": 5
}
