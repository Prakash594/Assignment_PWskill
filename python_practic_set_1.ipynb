{
 "cells": [
  {
   "cell_type": "markdown",
   "id": "7bca5c32-dca6-4590-be95-54ac6aa2f0d8",
   "metadata": {},
   "source": [
    "Q1. Write a Python program that defines a function called \"add_numbers\" that takes two arguments (i.e.,\n",
    "numbers) and returns their sum. Within the function, add the two numbers together and return the result\n",
    "using the return statement. Call the function with the values 5 and 6, and print out the returned result.\n",
    "This will result in the addition of 5 and 6, with the output of the program being the sum of these two\n",
    "numbers."
   ]
  },
  {
   "cell_type": "code",
   "execution_count": 7,
   "id": "1cf131c8-a096-440d-9259-b70301098933",
   "metadata": {},
   "outputs": [
    {
     "data": {
      "text/plain": [
       "11"
      ]
     },
     "execution_count": 7,
     "metadata": {},
     "output_type": "execute_result"
    }
   ],
   "source": [
    "class calc:\n",
    "    def __init__(self,num1,num2):\n",
    "        self.num1=num1\n",
    "        self.num2=num2\n",
    "    def sum(self):\n",
    "        return self.num1+self.num2\n",
    "obj = calc(5,6)\n",
    "obj.sum()\n"
   ]
  },
  {
   "cell_type": "markdown",
   "id": "3a24ebc2-3ed8-4680-9b78-b9f04fd2dbc9",
   "metadata": {},
   "source": [
    "Q2. Write a Python program that calculates the square root of a given number using a built-in function.\n",
    "Specifically, the program should take an integer or float input from the user, calculate its square root\n",
    "using the 'sqrt()' function from the 'math' module, and print out the result to the user. As an example,\n",
    "calculate the square root of the number 625 using this program, which should output the value of 25."
   ]
  },
  {
   "cell_type": "code",
   "execution_count": 20,
   "id": "d13f5bb8-f677-488b-a795-39e96366b930",
   "metadata": {},
   "outputs": [
    {
     "name": "stdin",
     "output_type": "stream",
     "text": [
      "PLs enter number:- \n"
     ]
    },
    {
     "name": "stdout",
     "output_type": "stream",
     "text": [
      "Please enter a valid number:-\n"
     ]
    },
    {
     "data": {
      "text/plain": [
       "25.0"
      ]
     },
     "execution_count": 20,
     "metadata": {},
     "output_type": "execute_result"
    }
   ],
   "source": [
    "import math\n",
    "class cal2:\n",
    "    def __init__(self,number):\n",
    "        self.number=number\n",
    "    def root(self):\n",
    "        return math.sqrt(self.number)\n",
    "\n",
    "try:\n",
    "    data =float(input(\"PLs enter number:-\"))\n",
    "    \n",
    "except ValueError:\n",
    "        print(\"Please enter a valid number:-\")\n",
    "obj=cal2(data)\n",
    "obj.root()\n",
    "        "
   ]
  },
  {
   "cell_type": "markdown",
   "id": "b66a0a9e-4645-44cf-9849-298123cb78a5",
   "metadata": {},
   "source": [
    "Q3.Write a program that prints all prime numbers between 0 to 50."
   ]
  },
  {
   "cell_type": "code",
   "execution_count": 33,
   "id": "2dd6b3fb-4ed7-4697-9198-6e392475bfbb",
   "metadata": {},
   "outputs": [
    {
     "name": "stdout",
     "output_type": "stream",
     "text": [
      "2 3 5 7 11 13 17 19 23 29 31 37 41 43 47 "
     ]
    }
   ],
   "source": [
    "class pri:\n",
    "    def __init__(self):\n",
    "        self.num=0\n",
    "        self.num2 = 50\n",
    "        \n",
    "    def prime(self):\n",
    "        for i in range(2,self.num2+1):\n",
    "            # print(i,end=\" \")\n",
    "            for j in range(2,self.num2+1):\n",
    "                if i%j==0:\n",
    "                    break\n",
    "            if i==j:\n",
    "                print(i,end=\" \")\n",
    "                        \n",
    "obj = pri()\n",
    "obj.prime()"
   ]
  },
  {
   "cell_type": "markdown",
   "id": "d82cd7af-b1ca-4557-9bc7-d1364b75fd88",
   "metadata": {},
   "source": [
    "Q4.How can we swap the values of three variables (let's say a, b, and c) without using a fourth variable?\n",
    "For example, if we have a=5, b=8, and c=9, how can we obtain a=9, b=5, and c=8? The challenge is to\n",
    "perform this operation without using an additional variable to store any of the values during the\n",
    "swapping process."
   ]
  },
  {
   "cell_type": "code",
   "execution_count": 40,
   "id": "48fa6810-366e-4cf1-bcdc-298e72cdbd98",
   "metadata": {},
   "outputs": [
    {
     "name": "stdout",
     "output_type": "stream",
     "text": [
      "Before Swap 5 8 9\n",
      "Before Swap 9 5 8\n"
     ]
    }
   ],
   "source": [
    "a=5\n",
    "b=8\n",
    "c=9\n",
    "print(\"Before Swap\",a,b,c)\n",
    "a=a+b+c\n",
    "b=a-(b+c)\n",
    "c=a-(b+c)\n",
    "a=a-(b+c)\n",
    "\n",
    "print(\"Before Swap\",a,b,c)"
   ]
  },
  {
   "cell_type": "markdown",
   "id": "765b469d-1b54-4688-b300-a5ffd060892f",
   "metadata": {},
   "source": [
    "Q5. Can you write a program that determines the nature of a given number (in this case, 87) as being\n",
    "positive, negative, or zero? The program should be designed to take the number as input and perform the\n",
    "necessary calculations to determine if the number is positive (i.e., greater than zero), negative (i.e., less\n",
    "than zero), or zero (i.e., equal to zero). The output of the program should indicate which of these three\n",
    "categories the given number falls into."
   ]
  },
  {
   "cell_type": "code",
   "execution_count": 5,
   "id": "1670daba-12d1-4f8d-800a-017e5ce66cb2",
   "metadata": {},
   "outputs": [
    {
     "name": "stdin",
     "output_type": "stream",
     "text": [
      "Enter Number: -1\n"
     ]
    },
    {
     "data": {
      "text/plain": [
       "'number is Negative'"
      ]
     },
     "execution_count": 5,
     "metadata": {},
     "output_type": "execute_result"
    }
   ],
   "source": [
    "class nature_number:\n",
    "    def __init__(self,number):\n",
    "        self.number=number\n",
    "    def nature_status(self):\n",
    "        if self.number > 0:\n",
    "            return \"number is positive\"\n",
    "        elif self.number < 0:\n",
    "            return \"number is Negative\"\n",
    "        else:\n",
    "            return \"Number is zero\"\n",
    "\n",
    "obj=nature_number(int(input(\"Enter Number:\")))\n",
    "obj.nature_status()                  "
   ]
  },
  {
   "cell_type": "markdown",
   "id": "00705a29-69a5-4561-b2f7-6c442811d13a",
   "metadata": {},
   "source": [
    "Q6. How can you create a program that determines whether a given number (in this case, 98) is even or\n",
    "odd? The program should be designed to take the number as input and perform the necessary\n",
    "calculations to determine whether it is divisible by two. If the number is divisible by two without leaving a\n",
    "remainder, it is an even number, and if there is a remainder, it is an odd number. The output of the\n",
    "program should indicate whether the given number is even or odd."
   ]
  },
  {
   "cell_type": "code",
   "execution_count": null,
   "id": "32bc4406-559b-45c9-ad12-da99b9b7c118",
   "metadata": {},
   "outputs": [
    {
     "name": "stdin",
     "output_type": "stream",
     "text": [
      "Enter Number: 2\n"
     ]
    },
    {
     "data": {
      "text/plain": [
       "'it is an even number'"
      ]
     },
     "execution_count": 7,
     "metadata": {},
     "output_type": "execute_result"
    }
   ],
   "source": [
    "class odd_even:\n",
    "    def __init__(self,number):\n",
    "        self.number=number\n",
    "    def oddEven(self):\n",
    "        if self.number %2 ==0:\n",
    "            return \"it is an even number\"\n",
    "        else:\n",
    "            return \" it is an odd number\"\n",
    "\n",
    "obj=odd_even(int(input(\"Enter Number:\")))\n",
    "obj.oddEven()                  "
   ]
  },
  {
   "cell_type": "code",
   "execution_count": 8,
   "id": "db3f1548-2609-41f6-98ac-49a79b62ad1c",
   "metadata": {},
   "outputs": [
    {
     "ename": "SyntaxError",
     "evalue": "invalid syntax (3152384284.py, line 1)",
     "output_type": "error",
     "traceback": [
      "\u001b[0;36m  Cell \u001b[0;32mIn[8], line 1\u001b[0;36m\u001b[0m\n\u001b[0;31m    Q7.Write a program for sum of digits.the digits are 76543 and the output should be 25.\u001b[0m\n\u001b[0m             ^\u001b[0m\n\u001b[0;31mSyntaxError\u001b[0m\u001b[0;31m:\u001b[0m invalid syntax\n"
     ]
    }
   ],
   "source": [
    "Q7.Write a program for sum of digits.the digits are 76543 and the output should be 25.\n"
   ]
  },
  {
   "cell_type": "code",
   "execution_count": 9,
   "id": "b1e4f6bd-7b7e-4ce9-b963-b006f12fbd4f",
   "metadata": {},
   "outputs": [
    {
     "ename": "SyntaxError",
     "evalue": "invalid syntax (3657438528.py, line 1)",
     "output_type": "error",
     "traceback": [
      "\u001b[0;36m  Cell \u001b[0;32mIn[9], line 1\u001b[0;36m\u001b[0m\n\u001b[0;31m    Q8.Write a program for reversing the given number 5436 and the output should be 6345.\u001b[0m\n\u001b[0m             ^\u001b[0m\n\u001b[0;31mSyntaxError\u001b[0m\u001b[0;31m:\u001b[0m invalid syntax\n"
     ]
    }
   ],
   "source": [
    "Q8.Write a program for reversing the given number 5436 and the output should be 6345.\n"
   ]
  },
  {
   "cell_type": "code",
   "execution_count": 10,
   "id": "79227d58-8aaa-4e8f-a85c-28af3caea86c",
   "metadata": {},
   "outputs": [
    {
     "name": "stdout",
     "output_type": "stream",
     "text": [
      "Object `number` not found.\n"
     ]
    }
   ],
   "source": [
    "Q9.Write a program to check if a given number 371 is an Armstrong number?\n"
   ]
  },
  {
   "cell_type": "code",
   "execution_count": 11,
   "id": "8bb4f324-a97e-49f2-addb-c6b5d0f7e7b7",
   "metadata": {},
   "outputs": [
    {
     "ename": "SyntaxError",
     "evalue": "invalid syntax (2908665684.py, line 1)",
     "output_type": "error",
     "traceback": [
      "\u001b[0;36m  Cell \u001b[0;32mIn[11], line 1\u001b[0;36m\u001b[0m\n\u001b[0;31m    Q10.Write a program the given year is 1996, a leap year.\u001b[0m\n\u001b[0m              ^\u001b[0m\n\u001b[0;31mSyntaxError\u001b[0m\u001b[0;31m:\u001b[0m invalid syntax\n"
     ]
    }
   ],
   "source": [
    "Q10.Write a program the given year is 1996, a leap year."
   ]
  },
  {
   "cell_type": "code",
   "execution_count": null,
   "id": "a93443ec-e31d-4733-a0fe-c93a3408bde9",
   "metadata": {},
   "outputs": [],
   "source": []
  }
 ],
 "metadata": {
  "kernelspec": {
   "display_name": "Python 3 (ipykernel)",
   "language": "python",
   "name": "python3"
  },
  "language_info": {
   "codemirror_mode": {
    "name": "ipython",
    "version": 3
   },
   "file_extension": ".py",
   "mimetype": "text/x-python",
   "name": "python",
   "nbconvert_exporter": "python",
   "pygments_lexer": "ipython3",
   "version": "3.10.8"
  }
 },
 "nbformat": 4,
 "nbformat_minor": 5
}
