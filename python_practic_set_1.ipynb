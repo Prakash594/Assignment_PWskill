{
 "cells": [
  {
   "cell_type": "markdown",
   "id": "ee2c6e46",
   "metadata": {},
   "source": [
    "Q1. Write a Python program that defines a function called \"add_numbers\" that takes two arguments (i.e., numbers) and returns their sum. Within the function, add the two numbers together and return the result using the return statement. Call the function with the values 5 and 6, and print out the returned result. This will result in the addition of 5 and 6, with the output of the program being the sum of these two numbers."
   ]
  },
  {
   "cell_type": "code",
   "execution_count": 2,
   "id": "0fa2aad1",
   "metadata": {},
   "outputs": [
    {
     "data": {
      "text/plain": [
       "11"
      ]
     },
     "execution_count": 2,
     "metadata": {},
     "output_type": "execute_result"
    }
   ],
   "source": [
    "class sum:\n",
    "    def __init__(self,num1,num2):\n",
    "        self.num1 = num1\n",
    "        self.num2 = num2\n",
    "    def sum_number(self):\n",
    "        return self.num1 + self.num2\n",
    "\n",
    "obj = sum(5,6)\n",
    "obj.sum_number()"
   ]
  },
  {
   "cell_type": "markdown",
   "id": "42510795",
   "metadata": {},
   "source": [
    "Q2. Write a Python program that calculates the square root of a given number using a built-in function. Specifically, the program should take an integer or float input from the user, calculate its square root using the 'sqrt()' function from the 'math' module, and print out the result to the user. As an example, calculate the square root of the number 625 using this program, which should output the value of 25."
   ]
  },
  {
   "cell_type": "code",
   "execution_count": 5,
   "id": "75aba4a1",
   "metadata": {},
   "outputs": [
    {
     "name": "stdout",
     "output_type": "stream",
     "text": [
      "Enter Number:-625\n"
     ]
    },
    {
     "data": {
      "text/plain": [
       "25.0"
      ]
     },
     "execution_count": 5,
     "metadata": {},
     "output_type": "execute_result"
    }
   ],
   "source": [
    "import math\n",
    "\n",
    "class sqr_root:\n",
    "    def __init__(self,num):\n",
    "        self.num = num\n",
    "    def root(self):\n",
    "        return math.sqrt(self.num)\n",
    "obj = sqr_root(int(input(\"Enter Number:-\")))\n",
    "\n",
    "obj.root()"
   ]
  },
  {
   "cell_type": "markdown",
   "id": "fb88ba6e",
   "metadata": {},
   "source": [
    "Q3.Write a program that prints all prime numbers between 0 to 50."
   ]
  },
  {
   "cell_type": "code",
   "execution_count": 10,
   "id": "555c622a",
   "metadata": {},
   "outputs": [
    {
     "name": "stdout",
     "output_type": "stream",
     "text": [
      "2,3,5,7,11,13,17,19,23,29,31,37,41,43,47,"
     ]
    }
   ],
   "source": [
    "class prime:\n",
    "    def __init__(self,num=0,num2=50):\n",
    "        self.num = num\n",
    "        self.num2 = num2\n",
    "    def prime_num(self):\n",
    "        for i in range(2,self.num2+1):\n",
    "            for j in range(2,self.num2+1):\n",
    "                if i%j==0:\n",
    "                    break\n",
    "            if i==j:\n",
    "                print(i,end=\",\")\n",
    "obj = prime()\n",
    "obj.prime_num()\n",
    "            \n",
    "        "
   ]
  },
  {
   "cell_type": "markdown",
   "id": "1fa34c8a",
   "metadata": {},
   "source": [
    "Q4.How can we swap the values of three variables (let's say a, b, and c) without using a fourth variable? For example, if we have a=5, b=8, and c=9, how can we obtain a=9, b=5, and c=8? The challenge is to perform this operation without using an additional variable to store any of the values during the swapping process."
   ]
  },
  {
   "cell_type": "code",
   "execution_count": 11,
   "id": "9577f0d8",
   "metadata": {},
   "outputs": [
    {
     "name": "stdout",
     "output_type": "stream",
     "text": [
      "Before Swap 5 8 9\n",
      "Before Swap 9 5 8\n"
     ]
    }
   ],
   "source": [
    "a=5\n",
    "b=8\n",
    "c=9\n",
    "print(\"Before Swap\",a,b,c)\n",
    "a=a+b+c\n",
    "b=a-(b+c)\n",
    "c=a-(b+c)\n",
    "a=a-(b+c)\n",
    "\n",
    "print(\"Before Swap\",a,b,c)\n",
    "\n"
   ]
  },
  {
   "cell_type": "markdown",
   "id": "668fb7ed",
   "metadata": {},
   "source": [
    "Q5. Can you write a program that determines the nature of a given number (in this case, 87) as being positive, negative, or zero? The program should be designed to take the number as input and perform the necessary calculations to determine if the number is positive (i.e., greater than zero), negative (i.e., less than zero), or zero (i.e., equal to zero). The output of the program should indicate which of these three categories the given number falls into."
   ]
  },
  {
   "cell_type": "code",
   "execution_count": 12,
   "id": "62272a71",
   "metadata": {},
   "outputs": [
    {
     "name": "stdout",
     "output_type": "stream",
     "text": [
      "Enter Number:15\n"
     ]
    },
    {
     "data": {
      "text/plain": [
       "'number is positive'"
      ]
     },
     "execution_count": 12,
     "metadata": {},
     "output_type": "execute_result"
    }
   ],
   "source": [
    "class nature_number:\n",
    "    def __init__(self,number):\n",
    "        self.number=number\n",
    "    def nature_status(self):\n",
    "        if self.number > 0:\n",
    "            return \"number is positive\"\n",
    "        elif self.number < 0:\n",
    "            return \"number is Negative\"\n",
    "        else:\n",
    "            return \"Number is zero\"\n",
    "\n",
    "obj=nature_number(int(input(\"Enter Number:\")))\n",
    "obj.nature_status()     "
   ]
  },
  {
   "cell_type": "markdown",
   "id": "4344dde3",
   "metadata": {},
   "source": [
    "Q6. How can you create a program that determines whether a given number (in this case, 98) is even or odd? The program should be designed to take the number as input and perform the necessary calculations to determine whether it is divisible by two. If the number is divisible by two without leaving a remainder, it is an even number, and if there is a remainder, it is an odd number. The output of the program should indicate whether the given number is even or odd."
   ]
  },
  {
   "cell_type": "code",
   "execution_count": 13,
   "id": "3f6a4fcf",
   "metadata": {},
   "outputs": [
    {
     "name": "stdout",
     "output_type": "stream",
     "text": [
      "Enter Number:15\n"
     ]
    },
    {
     "data": {
      "text/plain": [
       "' it is an odd number'"
      ]
     },
     "execution_count": 13,
     "metadata": {},
     "output_type": "execute_result"
    }
   ],
   "source": [
    "class odd_even:\n",
    "    def __init__(self,number):\n",
    "        self.number=number\n",
    "    def oddEven(self):\n",
    "        if self.number %2 ==0:\n",
    "            return \"it is an even number\"\n",
    "        else:\n",
    "            return \" it is an odd number\"\n",
    "\n",
    "obj=odd_even(int(input(\"Enter Number:\")))\n",
    "obj.oddEven()                  \n"
   ]
  },
  {
   "cell_type": "markdown",
   "id": "7a70fb00",
   "metadata": {},
   "source": [
    "Q7.Write a program for sum of digits.the digits are 76543 and the output should be 25."
   ]
  },
  {
   "cell_type": "code",
   "execution_count": 17,
   "id": "9faa84f0",
   "metadata": {},
   "outputs": [
    {
     "data": {
      "text/plain": [
       "25"
      ]
     },
     "execution_count": 17,
     "metadata": {},
     "output_type": "execute_result"
    }
   ],
   "source": [
    "class sum_digit:\n",
    "    def __init__(self,num):\n",
    "        self.num = num\n",
    "    def sum_of_digit(self):\n",
    "        sum=0\n",
    "        for i in str(self.num):\n",
    "            sum = sum+int(i)\n",
    "        return sum\n",
    "    \n",
    "obj = sum_digit(76543)\n",
    "obj.sum_of_digit()\n",
    "        \n",
    "            "
   ]
  },
  {
   "cell_type": "markdown",
   "id": "1a09a55e",
   "metadata": {},
   "source": [
    "Q8.Write a program for reversing the given number 5436 and the output should be 6345."
   ]
  },
  {
   "cell_type": "code",
   "execution_count": 29,
   "id": "28ec0fc3",
   "metadata": {},
   "outputs": [
    {
     "data": {
      "text/plain": [
       "'6345'"
      ]
     },
     "execution_count": 29,
     "metadata": {},
     "output_type": "execute_result"
    }
   ],
   "source": [
    "class reversing:\n",
    "    def __init__(self,num):\n",
    "        self.num = num\n",
    "    def revers(self):\n",
    "        out=''\n",
    "        for i in str(self.num[::-1]):\n",
    "            out=out+i\n",
    "        return out\n",
    "    \n",
    "obj = reversing('5436')\n",
    "obj.revers()"
   ]
  },
  {
   "cell_type": "markdown",
   "id": "75361311",
   "metadata": {},
   "source": [
    "Q9.Write a program to check if a given number 371 is an Armstrong number?"
   ]
  },
  {
   "cell_type": "code",
   "execution_count": 44,
   "id": "e1b90155",
   "metadata": {},
   "outputs": [
    {
     "data": {
      "text/plain": [
       "'Given number is an Armstrong number'"
      ]
     },
     "execution_count": 44,
     "metadata": {},
     "output_type": "execute_result"
    }
   ],
   "source": [
    "class Armstrong:\n",
    "    def __init__(self,number):\n",
    "        self.number= number\n",
    "    def Armstrong_number(self):\n",
    "        num=0\n",
    "        for i in self.number:\n",
    "            num=num+int(i)**3\n",
    "        if str(num)==self.number:\n",
    "            return \"Given number is an Armstrong number\"\n",
    "        return \"Given number is't an Armstrong number\"\n",
    "obj = Armstrong('153')\n",
    "obj.Armstrong_number()        "
   ]
  },
  {
   "cell_type": "markdown",
   "id": "804d7624",
   "metadata": {},
   "source": [
    "Q10.Write a program the given year is 1996, a leap year."
   ]
  },
  {
   "cell_type": "code",
   "execution_count": 47,
   "id": "b8bb7f76",
   "metadata": {},
   "outputs": [
    {
     "data": {
      "text/plain": [
       "'given year is a leap year'"
      ]
     },
     "execution_count": 47,
     "metadata": {},
     "output_type": "execute_result"
    }
   ],
   "source": [
    "class leap:\n",
    "    def __init__(self,year):\n",
    "        self.year = year\n",
    "    def check_leap(self):\n",
    "        if self.year%4==0:\n",
    "            return  \"given year is a leap year\"\n",
    "        else:\n",
    "             return \"given year is't a leap year\"\n",
    "obj = leap(1996)\n",
    "obj.check_leap()            \n",
    "    "
   ]
  },
  {
   "cell_type": "code",
   "execution_count": null,
   "id": "827b36fd",
   "metadata": {},
   "outputs": [],
   "source": []
  },
  {
   "cell_type": "code",
   "execution_count": null,
   "id": "a387e082",
   "metadata": {},
   "outputs": [],
   "source": []
  },
  {
   "cell_type": "code",
   "execution_count": null,
   "id": "f2caf26b",
   "metadata": {},
   "outputs": [],
   "source": []
  }
 ],
 "metadata": {
  "kernelspec": {
   "display_name": "Python 3 (ipykernel)",
   "language": "python",
   "name": "python3"
  },
  "language_info": {
   "codemirror_mode": {
    "name": "ipython",
    "version": 3
   },
   "file_extension": ".py",
   "mimetype": "text/x-python",
   "name": "python",
   "nbconvert_exporter": "python",
   "pygments_lexer": "ipython3",
   "version": "3.9.7"
  }
 },
 "nbformat": 4,
 "nbformat_minor": 5
}
