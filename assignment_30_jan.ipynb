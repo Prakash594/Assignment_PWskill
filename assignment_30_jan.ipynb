{
 "cells": [
  {
   "cell_type": "markdown",
   "id": "b7f57b62-0a4e-45ae-a266-c19986943b2b",
   "metadata": {},
   "source": [
    "Q1) write a program to accept percentages from the user and display the grade according to the following criteria"
   ]
  },
  {
   "cell_type": "code",
   "execution_count": 7,
   "id": "ad44bc3d-e509-4505-a5d1-b7b1e327e0b1",
   "metadata": {},
   "outputs": [
    {
     "name": "stdin",
     "output_type": "stream",
     "text": [
      "Enter Percentage-> 62\n"
     ]
    },
    {
     "name": "stdout",
     "output_type": "stream",
     "text": [
      "Grade-> C \n"
     ]
    }
   ],
   "source": [
    "per=float(input(\"Enter Percentage->\"))\n",
    "\n",
    "if per>90:\n",
    "    print(\"Grade-> A \")\n",
    "elif per>80 and per<=90:\n",
    "    print(\"Grade-> B \")\n",
    "elif per>60 and per<=80:\n",
    "    print(\"Grade-> C \")\n",
    "elif per>33 and per<=60 :\n",
    "    print(\"Grade-> D\")\n",
    "else:\n",
    "    print(\"Fail\")\n",
    "    "
   ]
  },
  {
   "cell_type": "markdown",
   "id": "ee31ec5d-5331-45a1-a221-04ee412e10d8",
   "metadata": {},
   "source": [
    "Q2) write a program to accept the cost price a bike and display the road tax to be paid according to the following criteria"
   ]
  },
  {
   "cell_type": "code",
   "execution_count": 13,
   "id": "c4fbbf65-5a16-479f-9cf8-347f0d6ba808",
   "metadata": {},
   "outputs": [
    {
     "name": "stdin",
     "output_type": "stream",
     "text": [
      "Enter bike cost-> 55000\n"
     ]
    },
    {
     "name": "stdout",
     "output_type": "stream",
     "text": [
      "Road Tax-> 5500.0\n"
     ]
    }
   ],
   "source": [
    "cost=int(input(\"Enter bike cost->\"))\n",
    "if cost>100000:\n",
    "    print(\"Road Tax->\",cost*15/100)\n",
    "elif cost>50000 and cost<=100000:\n",
    "    print(\"Road Tax->\",cost*10/100)\n",
    "else:\n",
    "    print(\"Road Tax->\",cost*5/100)"
   ]
  },
  {
   "cell_type": "markdown",
   "id": "2f6cc2a8-f167-4336-98ce-9738c0ae44c6",
   "metadata": {},
   "source": [
    "Q3) accept any city from user and display monuments of that city"
   ]
  },
  {
   "cell_type": "code",
   "execution_count": 17,
   "id": "c948ebc1-54d4-422f-8758-7cbdf819e03c",
   "metadata": {},
   "outputs": [
    {
     "name": "stdin",
     "output_type": "stream",
     "text": [
      "Enter City-> agra\n"
     ]
    },
    {
     "name": "stdout",
     "output_type": "stream",
     "text": [
      "Taj Mahal\n"
     ]
    }
   ],
   "source": [
    "city=input(\"Enter City->\")\n",
    "\n",
    "if city.upper()==\"DELHI\":\n",
    "    print(\"Red Fort\")\n",
    "elif city.upper()==\"AGRA\":\n",
    "    print(\"Taj Mahal\")\n",
    "elif city.upper()=='JAIPUR':\n",
    "    print(\"Jai Mahal\")\n"
   ]
  },
  {
   "cell_type": "markdown",
   "id": "02895b70-81b6-4598-806c-33623e98d30b",
   "metadata": {},
   "source": [
    "Q4) check how meny times a given number can be divided by 3 before it is less then or equal 10"
   ]
  },
  {
   "cell_type": "code",
   "execution_count": 31,
   "id": "0f3b1e47-166f-44a4-a306-04bd17e517c3",
   "metadata": {},
   "outputs": [
    {
     "name": "stdin",
     "output_type": "stream",
     "text": [
      "Enter Number 99\n"
     ]
    },
    {
     "name": "stdout",
     "output_type": "stream",
     "text": [
      "number can be divided by 3 before it is less then or equal 10-> 3\n"
     ]
    }
   ],
   "source": [
    "num = int(input(\"Enter Number\"))\n",
    "count=0\n",
    "while(num>10):\n",
    "    num=num/3\n",
    "    count=count+1\n",
    "print(\"number can be divided by 3 before it is less then or equal 10->\",count)"
   ]
  },
  {
   "cell_type": "markdown",
   "id": "decbd4c6-8414-43f1-9011-1ad707dea72c",
   "metadata": {},
   "source": [
    "Q5) why and when to use while loop in python give a details description with example"
   ]
  },
  {
   "cell_type": "code",
   "execution_count": 1,
   "id": "67c64a18-2abe-4468-86a8-f25aa532eaa9",
   "metadata": {},
   "outputs": [
    {
     "name": "stdin",
     "output_type": "stream",
     "text": [
      "Enter Number 33\n"
     ]
    },
    {
     "name": "stdout",
     "output_type": "stream",
     "text": [
      "number can be divided by 3 before it is less then or equal 10-> 2\n"
     ]
    }
   ],
   "source": [
    "#Why use while loop \n",
    "\n",
    "'''\n",
    "When you need any condition to after that loop will stop\n",
    "so you need to use while loop because while loop check condition and if condition true then loop body will execute other\n",
    "wise loop terminate\n",
    "'''\n",
    "\n",
    "#for example\n",
    "\n",
    "\n",
    "num = int(input(\"Enter Number\"))\n",
    "count=0\n",
    "while(num>10):\n",
    "    num=num/3\n",
    "    count=count+1\n",
    "print(\"number can be divided by 3 before it is less then or equal 10->\",count)\n",
    "\n",
    "\n"
   ]
  },
  {
   "cell_type": "markdown",
   "id": "5ab65c9e-8f01-4b54-824b-04937fb6df44",
   "metadata": {},
   "source": [
    "Q6) use nasted while loop to print 3 differant pattern"
   ]
  },
  {
   "cell_type": "code",
   "execution_count": 10,
   "id": "4ea656a3-66c0-4065-b28d-2c268867c365",
   "metadata": {},
   "outputs": [
    {
     "name": "stdout",
     "output_type": "stream",
     "text": [
      "* \n",
      "* * \n",
      "* * * \n",
      "* * * * \n",
      "* * * * * \n",
      "* * * * * * \n",
      "\n",
      "      *       \n",
      "    * * *     \n",
      "  * * * * *   \n",
      "* * * * * * * \n",
      "\n",
      "      *       \n",
      "    * * *     \n",
      "  * * * * *   \n",
      "* * * * * * * \n",
      "* * *   * * * \n",
      "* *       * * \n",
      "*           * \n",
      "              \n",
      "\n"
     ]
    }
   ],
   "source": [
    "i=0\n",
    "while i<=5:\n",
    "    j=0\n",
    "    while j<=5:\n",
    "        if j<=i:\n",
    "            print(\"*\",end=\" \")\n",
    "        j=j+1\n",
    "    print()\n",
    "    i=i+1\n",
    "print()\n",
    "k=1\n",
    "while k<5:\n",
    "    l=1\n",
    "    while l<8:\n",
    "        if l>=(5-k) and l<=(3+k):\n",
    "           print('*',end=\" \")\n",
    "        else:\n",
    "            print('',end=\"  \")\n",
    "        l=l+1\n",
    "    print()\n",
    "    k=k+1\n",
    "\n",
    "print()\n",
    "\n",
    "k=1\n",
    "while k<5:\n",
    "    l=1\n",
    "    while l<8:\n",
    "        if l>=(5-k) and l<=(3+k):\n",
    "           print('*',end=\" \")\n",
    "        else:\n",
    "            print('',end=\"  \")\n",
    "        l=l+1\n",
    "    print()\n",
    "    k=k+1\n",
    "a=1\n",
    "while a<5:\n",
    "    b=1\n",
    "    while b<8:\n",
    "        if b>=(5-a) and b<=(3+a):\n",
    "           print('',end=\"  \")\n",
    "        else:\n",
    "            print('*',end=\" \")\n",
    "        b=b+1\n",
    "    print()\n",
    "    a=a+1\n",
    "\n",
    "print()\n",
    "\n",
    "    "
   ]
  },
  {
   "cell_type": "markdown",
   "id": "1702a317-6ead-41a2-86b0-390987ed5e3f",
   "metadata": {},
   "source": [
    "Q7)Reverse while loop to display numbers from 10 to 1"
   ]
  },
  {
   "cell_type": "code",
   "execution_count": 11,
   "id": "52c1fa07-cb17-4639-9668-3326b901cef0",
   "metadata": {},
   "outputs": [
    {
     "name": "stdout",
     "output_type": "stream",
     "text": [
      "10 9 8 7 6 5 4 3 2 1 "
     ]
    }
   ],
   "source": [
    "num=10\n",
    "while(num>=1):\n",
    "    print(num,end=\" \")\n",
    "    num=num-1\n",
    "    "
   ]
  },
  {
   "cell_type": "markdown",
   "id": "53d67459-1bc4-4903-8f6c-9b72bfb008fb",
   "metadata": {},
   "source": [
    "Q8)Reverse while loop to display numbers from 10 to 1"
   ]
  },
  {
   "cell_type": "code",
   "execution_count": 12,
   "id": "749b4760-17a5-42a3-a411-ddb3347ab333",
   "metadata": {},
   "outputs": [
    {
     "name": "stdout",
     "output_type": "stream",
     "text": [
      "10 9 8 7 6 5 4 3 2 1 "
     ]
    }
   ],
   "source": [
    "num=10\n",
    "while(num>=1):\n",
    "    print(num,end=\" \")\n",
    "    num=num-1"
   ]
  }
 ],
 "metadata": {
  "kernelspec": {
   "display_name": "Python 3 (ipykernel)",
   "language": "python",
   "name": "python3"
  },
  "language_info": {
   "codemirror_mode": {
    "name": "ipython",
    "version": 3
   },
   "file_extension": ".py",
   "mimetype": "text/x-python",
   "name": "python",
   "nbconvert_exporter": "python",
   "pygments_lexer": "ipython3",
   "version": "3.10.8"
  }
 },
 "nbformat": 4,
 "nbformat_minor": 5
}
