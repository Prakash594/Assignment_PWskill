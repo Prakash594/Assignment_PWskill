{
 "cells": [
  {
   "cell_type": "markdown",
   "id": "85f61fae-65d5-41ba-b866-0bb358ff6536",
   "metadata": {},
   "source": [
    "Q1. Create a function which will take a list as an argument and return the product of all the numbers\n",
    "after creating a flat list.\n",
    "Use the below-given list as an argument for your function.\n",
    "\n",
    "\n",
    "list1 = [1,2,3,4, [44,55,66, True], False, (34,56,78,89,34), {1,2,3,3,2,1}, {1:34, \"key2\": [55, 67, 78, 89], 4: (45,\n",
    "22, 61, 34)}, [56, 'data science'], 'Machine Learning']\n",
    "Note: you must extract numeric keys and values of the dictionary also."
   ]
  },
  {
   "cell_type": "code",
   "execution_count": 8,
   "id": "c61a4e01-24fc-418b-b5b2-f93cfa58c0c2",
   "metadata": {},
   "outputs": [
    {
     "name": "stdout",
     "output_type": "stream",
     "text": [
      "1\n",
      "2\n",
      "3\n",
      "4\n",
      "[44, 55, 66, True]\n",
      "False\n",
      "(34, 56, 78, 89, 34)\n",
      "{1, 2, 3}\n",
      "{1: 34, 'key2': [55, 67, 78, 89], 4: (45, 22, 61, 34)}\n",
      "[56, 'data science']\n",
      "Machine Learning\n"
     ]
    }
   ],
   "source": [
    "\n",
    "list1 = [1,2,3,4, [44,55,66, True], False, (34,56,78,89,34), {1,2,3,3,2,1}, {1:34, \"key2\": [55, 67, 78, 89], 4: (45, 22, 61, 34)}, [56, 'data science'], 'Machine Learning']\n",
    "lis=[]\n",
    "for i in list1:\n",
    "    print(i)\n",
    "        \n",
    "    "
   ]
  },
  {
   "cell_type": "markdown",
   "id": "21e4e9c6-f0ae-42ff-99a4-7b2f0668a77e",
   "metadata": {},
   "source": [
    "Q2. Write a python program for encrypting a message sent to you by your friend. The logic of encryption\n",
    "should be such that, for a the output should be z. For b, the output should be y. For c, the output should\n",
    "be x respectively. Also, the whitespace should be replaced with a dollar sign. Keep the punctuation\n",
    "marks unchanged.\n",
    "\n",
    "Input Sentence: I want to become a Data Scientist.\n",
    "\n",
    "Encrypt the above input sentence using the program you just created.\n",
    "\n",
    "Note: Convert the given input sentence into lowercase before encrypting. The final output should be\n",
    "lowercase."
   ]
  },
  {
   "cell_type": "code",
   "execution_count": 5,
   "id": "7c623a29-027d-49ac-97ed-9fee4fbcdcc1",
   "metadata": {},
   "outputs": [
    {
     "name": "stdout",
     "output_type": "stream",
     "text": [
      "I$want$to$zeyome$a$Data$Syientist\n"
     ]
    }
   ],
   "source": [
    "Input='I want to become a Data Scientist'\n",
    "output=''\n",
    "for i in Input:\n",
    "    if i=='b':\n",
    "        output=output+'z'\n",
    "    elif i=='c':\n",
    "        output=output+'y'\n",
    "    elif i==' ':\n",
    "        output=output+'$'\n",
    "    else:\n",
    "        output=output+i\n",
    "print(output)        \n",
    "    "
   ]
  },
  {
   "cell_type": "code",
   "execution_count": null,
   "id": "f3a04440-3480-4974-b623-ea2e36da7720",
   "metadata": {},
   "outputs": [],
   "source": []
  }
 ],
 "metadata": {
  "kernelspec": {
   "display_name": "Python 3 (ipykernel)",
   "language": "python",
   "name": "python3"
  },
  "language_info": {
   "codemirror_mode": {
    "name": "ipython",
    "version": 3
   },
   "file_extension": ".py",
   "mimetype": "text/x-python",
   "name": "python",
   "nbconvert_exporter": "python",
   "pygments_lexer": "ipython3",
   "version": "3.10.8"
  }
 },
 "nbformat": 4,
 "nbformat_minor": 5
}
