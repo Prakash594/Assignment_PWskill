{
 "cells": [
  {
   "cell_type": "markdown",
   "id": "22240f49-1f51-440f-a750-9b1384c1fa06",
   "metadata": {
    "tags": []
   },
   "source": [
    "Q1, Create a vehicle class with an init method having instance variables as name_of_vehicle, max_speed \n",
    "and average_of_vehicle."
   ]
  },
  {
   "cell_type": "code",
   "execution_count": 7,
   "id": "0e7a8e57-ce28-4b75-98a5-637cb7555bdb",
   "metadata": {},
   "outputs": [
    {
     "name": "stdout",
     "output_type": "stream",
     "text": [
      "Tesla Model S\n",
      "155\n",
      "300\n"
     ]
    }
   ],
   "source": [
    "class Vehicle:\n",
    "    def __init__(self, name_of_vehicle, max_speed, average_of_vehicle):\n",
    "        self.name_of_vehicle = name_of_vehicle\n",
    "        self.max_speed = max_speed\n",
    "        self.average_of_vehicle = average_of_vehicle\n",
    "car = Vehicle(\"Tesla Model S\", 155, 300)\n",
    "print(car.name_of_vehicle)\n",
    "print(car.max_speed)\n",
    "print(car.average_of_vehicle)"
   ]
  },
  {
   "cell_type": "markdown",
   "id": "b2e13ba7-55f4-41e0-ae23-7451d1628717",
   "metadata": {},
   "source": [
    "Q2.  Create a child class car from the vehicle class created in Que 1, which will inherit the vehicle class. \n",
    "Create a method named seating_capacity which takes capacity as an argument and returns the name of \n",
    "the vehicle and its seating capacity."
   ]
  },
  {
   "cell_type": "code",
   "execution_count": 8,
   "id": "288dd190-29d3-4a55-8775-0f9e93da0610",
   "metadata": {},
   "outputs": [
    {
     "name": "stdout",
     "output_type": "stream",
     "text": [
      "Tesla Model S has a seating capacity of 5 passengers.\n"
     ]
    }
   ],
   "source": [
    "class Car(Vehicle):\n",
    "    def __init__(self, name_of_vehicle, max_speed, average_of_vehicle):\n",
    "        super().__init__(name_of_vehicle, max_speed, average_of_vehicle)\n",
    "    def seating_capacity(self, capacity):\n",
    "        return f\"{self.name_of_vehicle} has a seating capacity of {capacity} passengers.\"\n",
    "car = Car(\"Tesla Model S\", 155, 300)\n",
    "print(car.seating_capacity(5))\n"
   ]
  },
  {
   "cell_type": "markdown",
   "id": "b0ef2fa3-0b93-4050-8b52-169fc87900db",
   "metadata": {},
   "source": [
    "Q3. What is multiple inheritance? Write a python code to demonstrate multiple inheritance."
   ]
  },
  {
   "cell_type": "code",
   "execution_count": 9,
   "id": "2c8e0b1f-15b3-4fc1-88a4-e0e5f2c6a0a4",
   "metadata": {},
   "outputs": [
    {
     "name": "stdout",
     "output_type": "stream",
     "text": [
      "Fruit bat is feeding its young with milk.\n",
      "Fruit bat is flying.\n",
      "Echolocation!\n"
     ]
    }
   ],
   "source": [
    "class Animal:\n",
    "    def __init__(self, name):\n",
    "        self.name = name\n",
    "    \n",
    "    def speak(self):\n",
    "        pass\n",
    "\n",
    "class Mammal(Animal):\n",
    "    def __init__(self, name):\n",
    "        super().__init__(name)\n",
    "    \n",
    "    def feed_young_with_milk(self):\n",
    "        print(f\"{self.name} is feeding its young with milk.\")\n",
    "\n",
    "class Flyer:\n",
    "    def __init__(self, name):\n",
    "        self.name = name\n",
    "    \n",
    "    def fly(self):\n",
    "        print(f\"{self.name} is flying.\")\n",
    "\n",
    "class Bat(Mammal, Flyer):\n",
    "    def __init__(self, name):\n",
    "        super().__init__(name)\n",
    "\n",
    "    def speak(self):\n",
    "        print(\"Echolocation!\")\n",
    "\n",
    "bat = Bat(\"Fruit bat\")\n",
    "bat.feed_young_with_milk()  \n",
    "bat.fly()                   \n",
    "bat.speak()                 \n"
   ]
  },
  {
   "cell_type": "markdown",
   "id": "19ec608b-f327-43fa-abe8-ea0e515082c7",
   "metadata": {},
   "source": [
    "Q4. What are getter and setter in python? Create a class and create a getter and a setter method in this \n",
    "class."
   ]
  },
  {
   "cell_type": "code",
   "execution_count": 10,
   "id": "6cd8e450-7eb5-4085-bebf-3c9fb8b5dbd1",
   "metadata": {},
   "outputs": [
    {
     "name": "stdout",
     "output_type": "stream",
     "text": [
      "Getting name...\n",
      "Alice\n",
      "Setting name...\n",
      "Getting name...\n",
      "Bob\n"
     ]
    }
   ],
   "source": [
    "'''\n",
    "A getter is a method that retrieves the value of an instance variable,\n",
    "and a setter is a method that sets the value of an instance variable. \n",
    "In Python, you can define getters and setters using the @property and @<attribute>.setter decorators, respectively.\n",
    "'''\n",
    "\n",
    "#Example\n",
    "\n",
    "\n",
    "class Person:\n",
    "    def __init__(self, name):\n",
    "        self._name = name\n",
    "\n",
    "    @property\n",
    "    def name(self):\n",
    "        print(\"Getting name...\")\n",
    "        return self._name\n",
    "\n",
    "    @name.setter\n",
    "    def name(self, value):\n",
    "        print(\"Setting name...\")\n",
    "        self._name = value\n",
    "\n",
    "person = Person(\"Alice\")\n",
    "print(person.name)      # Output: Getting name... Alice\n",
    "person.name = \"Bob\"     # Output: Setting name...\n",
    "print(person.name)      # Output: Getting name... Bob\n"
   ]
  },
  {
   "cell_type": "markdown",
   "id": "52146a12-c25d-4070-98c9-6a576b079c28",
   "metadata": {},
   "source": [
    "Q5.What is method overriding in python? Write a python code to demonstrate method overriding."
   ]
  },
  {
   "cell_type": "code",
   "execution_count": 12,
   "id": "ff77f6d6-157b-46af-9623-a88ad3339c59",
   "metadata": {},
   "outputs": [
    {
     "name": "stdout",
     "output_type": "stream",
     "text": [
      "Generic animal sound\n",
      "Woof!\n",
      "Meow!\n"
     ]
    }
   ],
   "source": [
    "'''\n",
    "Method overriding is a feature in object-oriented programming that allows a subclass to provide,\n",
    "its own implementation of a method that is already defined in its parent class. \n",
    "In Python,method overriding occurs when a method in a subclass has the same name and signature as a method in its parent class.\n",
    "'''\n",
    "\n",
    "#example\n",
    "\n",
    "\n",
    "class Animal:\n",
    "    def make_sound(self):\n",
    "        print(\"Generic animal sound\")\n",
    "\n",
    "class Dog(Animal):\n",
    "    def make_sound(self):\n",
    "        print(\"Woof!\")\n",
    "\n",
    "class Cat(Animal):\n",
    "    def make_sound(self):\n",
    "        print(\"Meow!\")\n",
    "\n",
    "generic_animal = Animal()\n",
    "dog = Dog()\n",
    "cat = Cat()\n",
    "\n",
    "generic_animal.make_sound()  \n",
    "dog.make_sound()             \n",
    "cat.make_sound()             \n"
   ]
  },
  {
   "cell_type": "code",
   "execution_count": null,
   "id": "58f2d43b-03a6-46cc-92c5-d6426869e720",
   "metadata": {},
   "outputs": [],
   "source": []
  }
 ],
 "metadata": {
  "kernelspec": {
   "display_name": "Python 3 (ipykernel)",
   "language": "python",
   "name": "python3"
  },
  "language_info": {
   "codemirror_mode": {
    "name": "ipython",
    "version": 3
   },
   "file_extension": ".py",
   "mimetype": "text/x-python",
   "name": "python",
   "nbconvert_exporter": "python",
   "pygments_lexer": "ipython3",
   "version": "3.10.8"
  }
 },
 "nbformat": 4,
 "nbformat_minor": 5
}
