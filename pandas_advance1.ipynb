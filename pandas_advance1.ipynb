{
 "cells": [
  {
   "cell_type": "markdown",
   "id": "3e395d38-6c40-4d74-8274-1ff4dc5fe01b",
   "metadata": {},
   "source": [
    "Q1. List any five functions of the pandas library with execution."
   ]
  },
  {
   "cell_type": "code",
   "execution_count": 23,
   "id": "7adb16da-417f-4256-ba08-66c239056f78",
   "metadata": {},
   "outputs": [
    {
     "data": {
      "text/html": [
       "<div>\n",
       "<style scoped>\n",
       "    .dataframe tbody tr th:only-of-type {\n",
       "        vertical-align: middle;\n",
       "    }\n",
       "\n",
       "    .dataframe tbody tr th {\n",
       "        vertical-align: top;\n",
       "    }\n",
       "\n",
       "    .dataframe thead th {\n",
       "        text-align: right;\n",
       "    }\n",
       "</style>\n",
       "<table border=\"1\" class=\"dataframe\">\n",
       "  <thead>\n",
       "    <tr style=\"text-align: right;\">\n",
       "      <th></th>\n",
       "      <th>SN</th>\n",
       "      <th>Date_Of_Start</th>\n",
       "      <th>Task</th>\n",
       "      <th>Complete_Task_Date</th>\n",
       "      <th>Status</th>\n",
       "    </tr>\n",
       "  </thead>\n",
       "  <tbody>\n",
       "    <tr>\n",
       "      <th>0</th>\n",
       "      <td>1</td>\n",
       "      <td>2022-11-01</td>\n",
       "      <td>SQL(DDL cmd),pk,fk,alter,Installation of Oracl...</td>\n",
       "      <td>2022-11-02</td>\n",
       "      <td>complete</td>\n",
       "    </tr>\n",
       "    <tr>\n",
       "      <th>1</th>\n",
       "      <td>2</td>\n",
       "      <td>2022-11-02</td>\n",
       "      <td>SQL(DDM cmd)-insert,update,delete,update</td>\n",
       "      <td>2022-11-03</td>\n",
       "      <td>complete</td>\n",
       "    </tr>\n",
       "    <tr>\n",
       "      <th>2</th>\n",
       "      <td>3</td>\n",
       "      <td>2022-11-03</td>\n",
       "      <td>SQL(Table_JOINS)(inner,outer,natural),create u...</td>\n",
       "      <td>2022-11-03</td>\n",
       "      <td>complete</td>\n",
       "    </tr>\n",
       "    <tr>\n",
       "      <th>3</th>\n",
       "      <td>4</td>\n",
       "      <td>2022-11-03</td>\n",
       "      <td>meeting(harish sir POST  Senction,)</td>\n",
       "      <td>2022-11-03</td>\n",
       "      <td>complete</td>\n",
       "    </tr>\n",
       "    <tr>\n",
       "      <th>4</th>\n",
       "      <td>5</td>\n",
       "      <td>2022-11-03</td>\n",
       "      <td>SQL(Single_Row_Function)upper,lower,Date_Function</td>\n",
       "      <td>2022-11-03</td>\n",
       "      <td>complete</td>\n",
       "    </tr>\n",
       "    <tr>\n",
       "      <th>5</th>\n",
       "      <td>6</td>\n",
       "      <td>2022-11-03</td>\n",
       "      <td>credit senscation,IRR,Auto_Loan,Home_Loan</td>\n",
       "      <td>2022-11-04</td>\n",
       "      <td>complete</td>\n",
       "    </tr>\n",
       "    <tr>\n",
       "      <th>6</th>\n",
       "      <td>7</td>\n",
       "      <td>2022-11-04</td>\n",
       "      <td>meeting(harish sir POST  Senction,home loan,el...</td>\n",
       "      <td>NaT</td>\n",
       "      <td>complete</td>\n",
       "    </tr>\n",
       "    <tr>\n",
       "      <th>7</th>\n",
       "      <td>8</td>\n",
       "      <td>2022-11-04</td>\n",
       "      <td>Business loan ,types of business loan,letter o...</td>\n",
       "      <td>2022-11-09</td>\n",
       "      <td>complete</td>\n",
       "    </tr>\n",
       "    <tr>\n",
       "      <th>8</th>\n",
       "      <td>9</td>\n",
       "      <td>2022-11-05</td>\n",
       "      <td>meeting harish sir (Disbusment,Resheduling,)</td>\n",
       "      <td>NaT</td>\n",
       "      <td>NaN</td>\n",
       "    </tr>\n",
       "    <tr>\n",
       "      <th>9</th>\n",
       "      <td>10</td>\n",
       "      <td>2022-11-06</td>\n",
       "      <td>meeting (lms to los)</td>\n",
       "      <td>NaT</td>\n",
       "      <td>process</td>\n",
       "    </tr>\n",
       "    <tr>\n",
       "      <th>10</th>\n",
       "      <td>11</td>\n",
       "      <td>2022-11-07</td>\n",
       "      <td>meeting (vipul sir table, db,sql,advance)</td>\n",
       "      <td>2022-11-11</td>\n",
       "      <td>process</td>\n",
       "    </tr>\n",
       "    <tr>\n",
       "      <th>11</th>\n",
       "      <td>12</td>\n",
       "      <td>2022-11-09</td>\n",
       "      <td>meeting yogesh sir(mvt,networking,firewall,clu...</td>\n",
       "      <td>2022-11-12</td>\n",
       "      <td>NaN</td>\n",
       "    </tr>\n",
       "    <tr>\n",
       "      <th>12</th>\n",
       "      <td>13</td>\n",
       "      <td>2022-11-11</td>\n",
       "      <td>collection,dpd,</td>\n",
       "      <td>NaT</td>\n",
       "      <td>NaN</td>\n",
       "    </tr>\n",
       "    <tr>\n",
       "      <th>13</th>\n",
       "      <td>14</td>\n",
       "      <td>2022-11-14</td>\n",
       "      <td>tcl,vpn,</td>\n",
       "      <td>NaT</td>\n",
       "      <td>process</td>\n",
       "    </tr>\n",
       "    <tr>\n",
       "      <th>14</th>\n",
       "      <td>15</td>\n",
       "      <td>NaT</td>\n",
       "      <td>NaN</td>\n",
       "      <td>NaT</td>\n",
       "      <td>NaN</td>\n",
       "    </tr>\n",
       "    <tr>\n",
       "      <th>15</th>\n",
       "      <td>16</td>\n",
       "      <td>NaT</td>\n",
       "      <td>NaN</td>\n",
       "      <td>NaT</td>\n",
       "      <td>NaN</td>\n",
       "    </tr>\n",
       "    <tr>\n",
       "      <th>16</th>\n",
       "      <td>17</td>\n",
       "      <td>NaT</td>\n",
       "      <td>NaN</td>\n",
       "      <td>NaT</td>\n",
       "      <td>NaN</td>\n",
       "    </tr>\n",
       "    <tr>\n",
       "      <th>17</th>\n",
       "      <td>18</td>\n",
       "      <td>NaT</td>\n",
       "      <td>NaN</td>\n",
       "      <td>NaT</td>\n",
       "      <td>NaN</td>\n",
       "    </tr>\n",
       "    <tr>\n",
       "      <th>18</th>\n",
       "      <td>19</td>\n",
       "      <td>NaT</td>\n",
       "      <td>NaN</td>\n",
       "      <td>NaT</td>\n",
       "      <td>NaN</td>\n",
       "    </tr>\n",
       "  </tbody>\n",
       "</table>\n",
       "</div>"
      ],
      "text/plain": [
       "    SN Date_Of_Start                                               Task  \\\n",
       "0    1    2022-11-01  SQL(DDL cmd),pk,fk,alter,Installation of Oracl...   \n",
       "1    2    2022-11-02           SQL(DDM cmd)-insert,update,delete,update   \n",
       "2    3    2022-11-03  SQL(Table_JOINS)(inner,outer,natural),create u...   \n",
       "3    4    2022-11-03                meeting(harish sir POST  Senction,)   \n",
       "4    5    2022-11-03  SQL(Single_Row_Function)upper,lower,Date_Function   \n",
       "5    6    2022-11-03          credit senscation,IRR,Auto_Loan,Home_Loan   \n",
       "6    7    2022-11-04  meeting(harish sir POST  Senction,home loan,el...   \n",
       "7    8    2022-11-04  Business loan ,types of business loan,letter o...   \n",
       "8    9    2022-11-05       meeting harish sir (Disbusment,Resheduling,)   \n",
       "9   10    2022-11-06                               meeting (lms to los)   \n",
       "10  11    2022-11-07          meeting (vipul sir table, db,sql,advance)   \n",
       "11  12    2022-11-09  meeting yogesh sir(mvt,networking,firewall,clu...   \n",
       "12  13    2022-11-11                                    collection,dpd,   \n",
       "13  14    2022-11-14                                           tcl,vpn,   \n",
       "14  15           NaT                                                NaN   \n",
       "15  16           NaT                                                NaN   \n",
       "16  17           NaT                                                NaN   \n",
       "17  18           NaT                                                NaN   \n",
       "18  19           NaT                                                NaN   \n",
       "\n",
       "   Complete_Task_Date    Status  \n",
       "0          2022-11-02  complete  \n",
       "1          2022-11-03  complete  \n",
       "2          2022-11-03  complete  \n",
       "3          2022-11-03  complete  \n",
       "4          2022-11-03  complete  \n",
       "5          2022-11-04  complete  \n",
       "6                 NaT  complete  \n",
       "7          2022-11-09  complete  \n",
       "8                 NaT       NaN  \n",
       "9                 NaT   process  \n",
       "10         2022-11-11   process  \n",
       "11         2022-11-12       NaN  \n",
       "12                NaT       NaN  \n",
       "13                NaT   process  \n",
       "14                NaT       NaN  \n",
       "15                NaT       NaN  \n",
       "16                NaT       NaN  \n",
       "17                NaT       NaN  \n",
       "18                NaT       NaN  "
      ]
     },
     "execution_count": 23,
     "metadata": {},
     "output_type": "execute_result"
    }
   ],
   "source": [
    "#1. read_excel\n",
    "import pandas as pd\n",
    "pd.read_excel('Book1.xlsx')"
   ]
  },
  {
   "cell_type": "code",
   "execution_count": null,
   "id": "6f18a561-9232-48d7-844f-d49cf410de41",
   "metadata": {},
   "outputs": [],
   "source": [
    "#2. pandas.head\n",
    "import pandas as pd\n",
    "Dataframe=pd.read_excel('Book1.xlsx')\n",
    "Dataframe.head()"
   ]
  },
  {
   "cell_type": "code",
   "execution_count": null,
   "id": "64090960-4d6a-4782-9721-d7cd76e25f23",
   "metadata": {},
   "outputs": [],
   "source": [
    "#3. pandas.tail\n",
    "import pandas as pd\n",
    "Dataframe=pd.read_excel('Book1.xlsx')\n",
    "Dataframe.tail()"
   ]
  },
  {
   "cell_type": "code",
   "execution_count": null,
   "id": "8bc56e7f-2525-4b71-8541-62e605836433",
   "metadata": {},
   "outputs": [],
   "source": [
    "#4.pd.DataFrame\n",
    "import pandas as pd\n",
    "df = pd.DataFrame({'Weight': [45, 88, 56, 15, 71],\n",
    "                   'Name': ['Sam', 'Andrea', 'Alex', 'Robin', 'Kia'],\n",
    "                   'Age': [14, 25, 55, 8, 21]})\n",
    "df.columns"
   ]
  },
  {
   "cell_type": "code",
   "execution_count": null,
   "id": "75084b07-979c-483f-aa19-7b69a1c5055d",
   "metadata": {},
   "outputs": [],
   "source": [
    "#5.Data_frame.index\n",
    "import pandas as pd\n",
    "df = pd.DataFrame({'Weight': [45, 88, 56, 15, 71],\n",
    "                   'Name': ['Sam', 'Andrea', 'Alex', 'Robin', 'Kia'],\n",
    "                   'Age': [14, 25, 55, 8, 21]})\n",
    "df.index"
   ]
  },
  {
   "cell_type": "markdown",
   "id": "2f4711e2-e332-43b0-973a-d9dfdafa13c4",
   "metadata": {},
   "source": [
    "Q2. Given a Pandas DataFrame df with columns 'A', 'B', and 'C', write a Python function to re-index the\n",
    "DataFrame with a new index that starts from 1 and increments by 2 for each row."
   ]
  },
  {
   "cell_type": "code",
   "execution_count": null,
   "id": "fd0b1952-ccf5-4030-b76e-66191213d605",
   "metadata": {},
   "outputs": [],
   "source": [
    "import pandas as pd\n",
    "df = pd.DataFrame({'A': [45, 88, 56, 15, 71],\n",
    "                   'B': ['Sam', 'Andrea', 'Alex', 'Robin', 'Kia'],\n",
    "                   'C': [14, 25, 55, 8, 21]})\n",
    "new_ind=[]\n",
    "for i in range(len(df)):\n",
    "    new_ind.append((i*2)+1)\n",
    "df.index =new_ind\n",
    "\n",
    "df\n",
    "    "
   ]
  },
  {
   "cell_type": "markdown",
   "id": "fd604fe0-9a24-413c-9a3c-021357a43ff8",
   "metadata": {},
   "source": [
    "Q3. You have a Pandas DataFrame df with a column named 'Values'. Write a Python function that\n",
    "iterates over the DataFrame and calculates the sum of the first three values in the 'Values' column. The\n",
    "function should print the sum to the console."
   ]
  },
  {
   "cell_type": "code",
   "execution_count": 10,
   "id": "0e414157-a754-4e8a-b51d-535948ab7289",
   "metadata": {},
   "outputs": [
    {
     "name": "stdout",
     "output_type": "stream",
     "text": [
      "60\n"
     ]
    }
   ],
   "source": [
    "import pandas as pd\n",
    "\n",
    "def sum_value(df):\n",
    "    data = df['Values'].head(3)\n",
    "    print(data.sum()) \n",
    "data = {'Values': [10, 20, 30, 40, 50]}\n",
    "df = pd.DataFrame(data)    \n",
    "sum_value(df)    \n",
    "    "
   ]
  },
  {
   "cell_type": "markdown",
   "id": "52343b4c-4860-4332-8ffa-dc4d0359a4f5",
   "metadata": {},
   "source": [
    "Q4. Given a Pandas DataFrame df with a column 'Text', write a Python function to create a new column\n",
    "'Word_Count' that contains the number of words in each row of the 'Text' column."
   ]
  },
  {
   "cell_type": "code",
   "execution_count": 25,
   "id": "bc00c20d-f28a-4530-a786-3daef7f6b2c9",
   "metadata": {},
   "outputs": [
    {
     "ename": "AttributeError",
     "evalue": "'list' object has no attribute 'apply'",
     "output_type": "error",
     "traceback": [
      "\u001b[0;31m---------------------------------------------------------------------------\u001b[0m",
      "\u001b[0;31mAttributeError\u001b[0m                            Traceback (most recent call last)",
      "Cell \u001b[0;32mIn[25], line 9\u001b[0m\n\u001b[1;32m      6\u001b[0m \u001b[38;5;66;03m# df=Dataframe=pd.read_excel('Book1.xlsx')\u001b[39;00m\n\u001b[1;32m      8\u001b[0m df\u001b[38;5;241m=\u001b[39m{\u001b[38;5;124m'\u001b[39m\u001b[38;5;124mTask\u001b[39m\u001b[38;5;124m'\u001b[39m: [\u001b[38;5;124m\"\u001b[39m\u001b[38;5;124mThis is a sample task\u001b[39m\u001b[38;5;124m\"\u001b[39m, \u001b[38;5;124m\"\u001b[39m\u001b[38;5;124mAnother example task\u001b[39m\u001b[38;5;124m\"\u001b[39m]}\n\u001b[0;32m----> 9\u001b[0m df[\u001b[38;5;124m'\u001b[39m\u001b[38;5;124mWord_Count\u001b[39m\u001b[38;5;124m'\u001b[39m] \u001b[38;5;241m=\u001b[39m \u001b[43mdf\u001b[49m\u001b[43m[\u001b[49m\u001b[38;5;124;43m'\u001b[39;49m\u001b[38;5;124;43mTask\u001b[39;49m\u001b[38;5;124;43m'\u001b[39;49m\u001b[43m]\u001b[49m\u001b[38;5;241;43m.\u001b[39;49m\u001b[43mapply\u001b[49m(\u001b[38;5;28mlen\u001b[39m(df[\u001b[38;5;124m'\u001b[39m\u001b[38;5;124mTask\u001b[39m\u001b[38;5;124m'\u001b[39m]))\n\u001b[1;32m     10\u001b[0m df\n",
      "\u001b[0;31mAttributeError\u001b[0m: 'list' object has no attribute 'apply'"
     ]
    }
   ],
   "source": [
    "import pandas as pd\n",
    "\n",
    "def new_column(df):\n",
    "    print(len(df['Task']))\n",
    "\n",
    "# df=Dataframe=pd.read_excel('Book1.xlsx')\n",
    "\n",
    "df={'Task': [\"This is a sample task\", \"Another example task\"]}\n",
    "df['Word_Count'] = df['Task'].apply(len(df['Task']))\n",
    "df"
   ]
  },
  {
   "cell_type": "code",
   "execution_count": null,
   "id": "2aa7c16b-44c2-4548-a532-53b3f528ea3a",
   "metadata": {},
   "outputs": [],
   "source": []
  },
  {
   "cell_type": "code",
   "execution_count": null,
   "id": "09aa5807-5a37-4901-8db8-59e9aeee3918",
   "metadata": {},
   "outputs": [],
   "source": []
  },
  {
   "cell_type": "code",
   "execution_count": null,
   "id": "abfaed83-5fca-4db8-ae79-9013f7500bae",
   "metadata": {},
   "outputs": [],
   "source": []
  },
  {
   "cell_type": "code",
   "execution_count": null,
   "id": "f7a486dc-d300-42ca-aa67-c484da40014e",
   "metadata": {},
   "outputs": [],
   "source": []
  },
  {
   "cell_type": "code",
   "execution_count": null,
   "id": "0da27080-ffe6-425b-b10c-57290fdaea2c",
   "metadata": {},
   "outputs": [],
   "source": []
  },
  {
   "cell_type": "code",
   "execution_count": null,
   "id": "75615bd2-3c23-4f23-ae80-873ab92413a8",
   "metadata": {},
   "outputs": [],
   "source": []
  },
  {
   "cell_type": "code",
   "execution_count": null,
   "id": "47920be3-5741-470e-96c4-97bed43a6ea2",
   "metadata": {},
   "outputs": [],
   "source": []
  },
  {
   "cell_type": "code",
   "execution_count": null,
   "id": "61ba2f37-e603-461a-8fde-e925ad62c4e7",
   "metadata": {},
   "outputs": [],
   "source": []
  },
  {
   "cell_type": "code",
   "execution_count": null,
   "id": "f4d296c0-c0d0-4933-aed0-876403bd90cc",
   "metadata": {},
   "outputs": [],
   "source": []
  },
  {
   "cell_type": "code",
   "execution_count": null,
   "id": "635b037b-2ebf-4cb7-8ac9-e75d7395d4c3",
   "metadata": {},
   "outputs": [],
   "source": []
  },
  {
   "cell_type": "code",
   "execution_count": null,
   "id": "dd2cf67b-c1ea-45fc-bbf2-b978c68919df",
   "metadata": {},
   "outputs": [],
   "source": []
  },
  {
   "cell_type": "code",
   "execution_count": null,
   "id": "28db367d-ee0f-4d98-8dca-035db87bf2d0",
   "metadata": {},
   "outputs": [],
   "source": []
  },
  {
   "cell_type": "code",
   "execution_count": null,
   "id": "db14f904-fed6-4717-a8cb-b22f1920a2d3",
   "metadata": {},
   "outputs": [],
   "source": []
  },
  {
   "cell_type": "code",
   "execution_count": null,
   "id": "e909b695-5a96-4c77-b75c-d2bf0f5962a6",
   "metadata": {},
   "outputs": [],
   "source": []
  },
  {
   "cell_type": "code",
   "execution_count": null,
   "id": "dc610b06-d971-4dac-a71d-c45100cbec07",
   "metadata": {},
   "outputs": [],
   "source": []
  },
  {
   "cell_type": "code",
   "execution_count": null,
   "id": "50e12cf4-2174-40e5-8583-fc3d5983362a",
   "metadata": {},
   "outputs": [],
   "source": []
  },
  {
   "cell_type": "code",
   "execution_count": null,
   "id": "a4a3d97e-1f81-4792-b26b-d51c5a526da1",
   "metadata": {},
   "outputs": [],
   "source": []
  },
  {
   "cell_type": "code",
   "execution_count": null,
   "id": "a3d20071-7a32-4923-9974-ed89217e7687",
   "metadata": {},
   "outputs": [],
   "source": []
  },
  {
   "cell_type": "code",
   "execution_count": null,
   "id": "20635545-58c9-47bf-940f-c72ecaf54ade",
   "metadata": {},
   "outputs": [],
   "source": []
  },
  {
   "cell_type": "code",
   "execution_count": null,
   "id": "a67c5845-dadf-478d-aba2-9c98ae482057",
   "metadata": {},
   "outputs": [],
   "source": []
  }
 ],
 "metadata": {
  "kernelspec": {
   "display_name": "Python 3 (ipykernel)",
   "language": "python",
   "name": "python3"
  },
  "language_info": {
   "codemirror_mode": {
    "name": "ipython",
    "version": 3
   },
   "file_extension": ".py",
   "mimetype": "text/x-python",
   "name": "python",
   "nbconvert_exporter": "python",
   "pygments_lexer": "ipython3",
   "version": "3.10.8"
  }
 },
 "nbformat": 4,
 "nbformat_minor": 5
}
