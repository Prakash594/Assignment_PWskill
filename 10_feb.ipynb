{
 "cells": [
  {
   "cell_type": "markdown",
   "id": "d32d6081-a046-45fb-87b1-22dae6434d4b",
   "metadata": {},
   "source": [
    "Q1. Which function is used to open a file? What are the different modes of opening a file? Explain each mode \n",
    "of file opening."
   ]
  },
  {
   "cell_type": "code",
   "execution_count": 2,
   "id": "c1af6615-3514-47e2-9db8-accc14a85680",
   "metadata": {},
   "outputs": [
    {
     "data": {
      "text/plain": [
       "\"\\nThe open() function takes two parameters: the file name (including the path) and the mode in which to open the file. The mode specifies the purpose of opening the file and determines the operations that can be performed on the file. There are several modes in which a file can be opened:\\n\\n1-'r': Read mode - the file is opened for reading (default if mode is not specified). You can only read the file's contents, but cannot modify or add new data to it.\\n\\n2-'w': Write mode - the file is opened for writing. You can write to the file and truncate its contents. If the file does not exist, it will be created.\\n\\n3-'a': Append mode - the file is opened for appending. You can write to the end of the file without overwriting existing data. If the file does not exist, it will be created.\\n\\n4-'x': Exclusive creation mode - the file is opened for exclusive creation. You can write to the file and truncate its contents, but if the file already exists, an error will be raised.\\n\\n5-'b': Binary mode - the file is opened in binary mode. This is used for reading or writing binary data like images or audio files.\\n\\n6-'t': Text mode - the file is opened in text mode (default). This is used for reading or writing text data like strings.\\n\""
      ]
     },
     "execution_count": 2,
     "metadata": {},
     "output_type": "execute_result"
    }
   ],
   "source": [
    "'''\n",
    "The open() function takes two parameters: the file name (including the path) and the mode in which to open the file. The mode specifies the purpose of opening the file and determines the operations that can be performed on the file. There are several modes in which a file can be opened:\n",
    "\n",
    "1-'r': Read mode - the file is opened for reading (default if mode is not specified). You can only read the file's contents, but cannot modify or add new data to it.\n",
    "\n",
    "2-'w': Write mode - the file is opened for writing. You can write to the file and truncate its contents. If the file does not exist, it will be created.\n",
    "\n",
    "3-'a': Append mode - the file is opened for appending. You can write to the end of the file without overwriting existing data. If the file does not exist, it will be created.\n",
    "\n",
    "4-'x': Exclusive creation mode - the file is opened for exclusive creation. You can write to the file and truncate its contents, but if the file already exists, an error will be raised.\n",
    "\n",
    "5-'b': Binary mode - the file is opened in binary mode. This is used for reading or writing binary data like images or audio files.\n",
    "\n",
    "6-'t': Text mode - the file is opened in text mode (default). This is used for reading or writing text data like strings.\n",
    "'''"
   ]
  },
  {
   "cell_type": "markdown",
   "id": "877f0433-5245-48e0-a6e0-fec1389c1010",
   "metadata": {},
   "source": [
    "Q2. Why close() function is used? Why is it important to close a file?"
   ]
  },
  {
   "cell_type": "code",
   "execution_count": 3,
   "id": "863a2d54-850d-42c9-b734-033b4f9af24d",
   "metadata": {},
   "outputs": [
    {
     "data": {
      "text/plain": [
       "'\\n\\nIn Python, the close() function is used to close an opened file. It is important to close a file after you are done working with it for several reasons:\\n\\n1-Free up system resources: When a file is opened, the operating system allocates system resources to the process that opened the file.\\nThese resources are released when the file is closed, so it is important to close the file to avoid wasting system resources.\\n\\n2-Ensure data is written to the file: When you write to a file, the data is not immediately written to disk. Instead, it is stored in a buffer.\\nClosing the file forces the buffer to be flushed and ensures that all the data is written to the file.\\n\\n3-Avoid data corruption: If you do not close a file after writing to it, the data in the buffer may be lost if your program crashes.\\nThis can lead to data corruption and loss of important data.\\n\\n'"
      ]
     },
     "execution_count": 3,
     "metadata": {},
     "output_type": "execute_result"
    }
   ],
   "source": [
    "'''\n",
    "\n",
    "In Python, the close() function is used to close an opened file. It is important to close a file after you are done working with it for several reasons:\n",
    "\n",
    "1-Free up system resources: When a file is opened, the operating system allocates system resources to the process that opened the file.\n",
    "These resources are released when the file is closed, so it is important to close the file to avoid wasting system resources.\n",
    "\n",
    "2-Ensure data is written to the file: When you write to a file, the data is not immediately written to disk. Instead, it is stored in a buffer.\n",
    "Closing the file forces the buffer to be flushed and ensures that all the data is written to the file.\n",
    "\n",
    "3-Avoid data corruption: If you do not close a file after writing to it, the data in the buffer may be lost if your program crashes.\n",
    "This can lead to data corruption and loss of important data.\n",
    "\n",
    "'''"
   ]
  },
  {
   "cell_type": "markdown",
   "id": "96f5b831-704a-4e53-a792-61affc69163b",
   "metadata": {},
   "source": [
    "Q3. Write a python program to create a text file. Write ‘I want to become a Data Scientist’ in that file. Then \n",
    "close the file. Open this file and read the content of the file."
   ]
  },
  {
   "cell_type": "code",
   "execution_count": 4,
   "id": "70786a01-da10-4923-b20c-71a78ef3340b",
   "metadata": {},
   "outputs": [
    {
     "name": "stdout",
     "output_type": "stream",
     "text": [
      "I want to become a Data Scientist\n"
     ]
    }
   ],
   "source": [
    "# Open file in write mode and write to it\n",
    "with open(\"data_scientist.txt\", \"w\") as f:\n",
    "    f.write(\"I want to become a Data Scientist\")\n",
    "\n",
    "# Open file in read mode and read its contents\n",
    "with open(\"data_scientist.txt\", \"r\") as f:\n",
    "    content = f.read()\n",
    "    print(content)\n"
   ]
  },
  {
   "cell_type": "markdown",
   "id": "172faa8d-d01b-4ce2-959c-54531c81f0e7",
   "metadata": {},
   "source": [
    "Q4. Explain the following with python code: read(), readline() and readlines()."
   ]
  },
  {
   "cell_type": "code",
   "execution_count": 6,
   "id": "35012d87-a2a6-49e5-8060-9ed213709eb2",
   "metadata": {},
   "outputs": [
    {
     "name": "stdout",
     "output_type": "stream",
     "text": [
      "Lorem Ipsum is simply dummy text of the printing and typesetting industry. Lorem Ipsum has been the industry's standard dummy text ever since the 1500s, when an unknown printer took a galley of type and scrambled it to make a type specimen book. It has survived not only five centuries, but also the leap into electronic typesetting, remaining essentially unchanged. It was popularised in the 1960s with the release of Letraset sheets containing Lorem Ipsum passages, and more recently with desktop publishing software like Aldus PageMaker including versions of Lorem Ipsum.\n",
      "Lorem Ipsum is simply dummy text of the printing and typesetting industry. Lorem Ipsum has been the industry's standard dummy text ever since the 1500s, when an unknown printer took a galley of type and scrambled it to make a type specimen book. It has survived not only five centuries, but also the leap into electronic typesetting, remaining essentially unchanged. It was popularised in the 1960s with the release of Letraset sheets containing Lorem Ipsum passages, and more recently with desktop publishing software like Aldus PageMaker including versions of Lorem Ipsum.\n",
      "Lorem Ipsum is simply dummy text of the printing and typesetting industry. Lorem Ipsum has been the industry's standard dummy text ever since the 1500s, when an unknown printer took a galley of type and scrambled it to make a type specimen book. It has survived not only five centuries, but also the leap into electronic typesetting, remaining essentially unchanged. It was popularised in the 1960s with the release of Letraset sheets containing Lorem Ipsum passages, and more recently with desktop publishing software like Aldus PageMaker including versions of Lorem Ipsum.\n"
     ]
    }
   ],
   "source": [
    "'''\n",
    "# read()\n",
    " \n",
    "The read() method reads the entire contents of a file and returns it as a string.\n",
    "It takes an optional parameter that specifies the number of bytes to read.\n",
    "'''\n",
    "\n",
    "#example\n",
    "\n",
    "# Open file in read mode and read its contents using read() method\n",
    "with open(\"file.txt\", \"r\") as f:\n",
    "    content = f.read()\n",
    "    print(content)\n",
    "    \n",
    "'''\n",
    "# readline()\n",
    "The readline() method reads a single line from a file and returns it as a string. It takes no parameters.\n",
    "'''\n",
    "\n",
    "#example\n",
    "\n",
    "# Open file in read mode and read its contents using readline() method\n",
    "with open(\"file.txt\", \"r\") as f:\n",
    "    line = f.readline()\n",
    "    while line:\n",
    "        print(line)\n",
    "        line = f.readline()\n",
    "'''\n",
    "# readlines() \n",
    "The readlines() method reads all the lines of a file and returns them as a list of strings. \n",
    "Each element of the list is one line of the file.\n",
    "\n",
    "'''\n",
    "#example\n",
    "\n",
    "# Open file in read mode and read its contents using readlines() method\n",
    "with open(\"file.txt\", \"r\") as f:\n",
    "    lines = f.readlines()\n",
    "    for line in lines:\n",
    "        print(line)\n",
    "\n"
   ]
  },
  {
   "cell_type": "markdown",
   "id": "86f0968c-4415-45f5-aa49-f0dd816caec0",
   "metadata": {},
   "source": [
    "Q6. Explain the write() and writelines() functions. Give a suitable example."
   ]
  },
  {
   "cell_type": "code",
   "execution_count": 8,
   "id": "d001af6d-4375-4935-afb4-82dcafcdef1b",
   "metadata": {},
   "outputs": [],
   "source": [
    "'''\n",
    "write() method:\n",
    "\n",
    "The write() method writes a string to a file. It takes a single parameter, which is the string to be written\n",
    "'''\n",
    "\n",
    "#example\n",
    "\n",
    "# Open file in write mode and write to it using write() method\n",
    "with open(\"file.txt\", \"w\") as f:\n",
    "    f.write(\"This is the first line.\\n\")\n",
    "    f.write(\"This is the second line.\\n\")\n",
    "    f.write(\"This is the third line.\\n\")\n",
    "'''\n",
    "writelines() method: \n",
    "\n",
    "The writelines() method writes a list of strings to a file. Each element of the list is one line of the file.\n",
    "'''\n",
    "\n",
    "#example\n",
    "\n",
    "# Open file in write mode and write to it using writelines() method\n",
    "lines = [\"This is the first line.\\n\", \"This is the second line.\\n\", \"This is the third line.\\n\"]\n",
    "with open(\"file.txt\", \"w\") as f:\n",
    "    f.writelines(lines)\n"
   ]
  },
  {
   "cell_type": "code",
   "execution_count": null,
   "id": "2285b325-9e06-4a2e-8a7d-72a7c4cd0bb0",
   "metadata": {},
   "outputs": [],
   "source": []
  }
 ],
 "metadata": {
  "kernelspec": {
   "display_name": "Python 3 (ipykernel)",
   "language": "python",
   "name": "python3"
  },
  "language_info": {
   "codemirror_mode": {
    "name": "ipython",
    "version": 3
   },
   "file_extension": ".py",
   "mimetype": "text/x-python",
   "name": "python",
   "nbconvert_exporter": "python",
   "pygments_lexer": "ipython3",
   "version": "3.10.8"
  }
 },
 "nbformat": 4,
 "nbformat_minor": 5
}
