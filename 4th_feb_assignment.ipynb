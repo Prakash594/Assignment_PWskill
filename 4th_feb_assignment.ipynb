{
 "cells": [
  {
   "cell_type": "markdown",
   "id": "b3a21f83-ed94-4f8f-931f-1e7904ab3fbf",
   "metadata": {},
   "source": [
    "Q1) Create python program to sort the given list of tuple based on integer value using a lambda function"
   ]
  },
  {
   "cell_type": "code",
   "execution_count": 37,
   "id": "11287d61-62ac-4a1a-9982-9d400d960673",
   "metadata": {},
   "outputs": [
    {
     "name": "stdout",
     "output_type": "stream",
     "text": [
      "[('Virat Kohli', 24936), ('Jack Kallis', 25534), ('Ricky Ponting', 27483), ('Sachin Tendulkar', 34357)]\n"
     ]
    }
   ],
   "source": [
    "li=[('Sachin Tendulkar',34357),('Ricky Ponting',27483),('Jack Kallis',25534),('Virat Kohli',24936)]\n",
    "\n",
    "fun = sorted(li, key=lambda x: x[1])\n",
    "print(fun)"
   ]
  },
  {
   "cell_type": "markdown",
   "id": "fb8e3374-1d0a-405f-a8c5-aae5be2390e2",
   "metadata": {},
   "source": [
    "Q2)Write a python program to find the square of all numbers in the given list of integer using lambda function"
   ]
  },
  {
   "cell_type": "code",
   "execution_count": 45,
   "id": "a0e0b20b-2e9a-4b17-8288-a5bde205fee9",
   "metadata": {},
   "outputs": [
    {
     "name": "stdout",
     "output_type": "stream",
     "text": [
      "[1, 4, 9, 16, 25, 36, 49, 64, 81, 100]\n"
     ]
    }
   ],
   "source": [
    "li=[1,2,3,4,5,6,7,8,9,10]\n",
    "l2 = list(map(lambda li: li ** 2, li))\n",
    "print(l2)"
   ]
  },
  {
   "cell_type": "markdown",
   "id": "42f590f0-774f-4235-b21b-d976f4804950",
   "metadata": {},
   "source": [
    "Q3) write a python to convert given list of integer into tuple of string using map lambda function"
   ]
  },
  {
   "cell_type": "code",
   "execution_count": 46,
   "id": "e5a4a2c4-34dc-4013-8eb0-51d76d4b46ce",
   "metadata": {},
   "outputs": [
    {
     "name": "stdout",
     "output_type": "stream",
     "text": [
      "('1', '2', '3', '4', '5', '6', '7', '8', '9', '10')\n"
     ]
    }
   ],
   "source": [
    "li=[1,2,3,4,5,6,7,8,9,10]\n",
    "l2 = tuple(map(lambda li: str(li), li))\n",
    "print(l2)"
   ]
  },
  {
   "cell_type": "markdown",
   "id": "4099fda4-b310-448e-abac-ea573a1f7240",
   "metadata": {},
   "source": [
    "Q4) Write a python program using reduce function to compute the product of  a list containing numbers from 1 to 25"
   ]
  },
  {
   "cell_type": "code",
   "execution_count": 60,
   "id": "9ab9ef42-1407-4c62-84d5-9c25f2667493",
   "metadata": {},
   "outputs": [
    {
     "name": "stdout",
     "output_type": "stream",
     "text": [
      "15511210043330985984000000\n"
     ]
    }
   ],
   "source": [
    "result2 = reduce((lambda x, y: x * y), range(1,26))\n",
    "print(result2)"
   ]
  },
  {
   "cell_type": "markdown",
   "id": "e94f35b9-f5f2-476c-8f03-163d777b072a",
   "metadata": {},
   "source": [
    "Q5)write a python program to filter the number of given that are divisible by 2 and 3 using the filter function \n",
    "[2,3,6,9,27,60,90,120,55,46]"
   ]
  },
  {
   "cell_type": "code",
   "execution_count": 48,
   "id": "7563b21b-cf1c-471a-a48b-4c677dd56f20",
   "metadata": {},
   "outputs": [
    {
     "name": "stdout",
     "output_type": "stream",
     "text": [
      "[3, 6, 9, 27, 60, 90, 120]\n",
      "[2, 6, 60, 90, 120, 46]\n"
     ]
    }
   ],
   "source": [
    "li = [2,3,6,9,27,60,90,120,55,46]\n",
    "  \n",
    "# result contains odd numbers of the list\n",
    "result = filter(lambda x: x % 3 == 0, li)\n",
    "print(list(result))\n",
    "  \n",
    "# result contains even numbers of the list\n",
    "result = filter(lambda x: x % 2 == 0, li)\n",
    "print(list(result))"
   ]
  },
  {
   "cell_type": "markdown",
   "id": "5827df96-c7cd-4495-af6f-fc1429235762",
   "metadata": {},
   "source": [
    "Q6) write a python program to find a palindromes in the given list of string using lambda and filter function['python',''php','aba','radar','level']"
   ]
  },
  {
   "cell_type": "code",
   "execution_count": 51,
   "id": "8b7d6386-5d70-4343-ae2c-e9ec29c9680d",
   "metadata": {},
   "outputs": [
    {
     "name": "stdout",
     "output_type": "stream",
     "text": [
      "['php', 'aba', 'radar', 'level']\n"
     ]
    }
   ],
   "source": [
    "li=['python','php','aba','radar','level']\n",
    "result = filter(lambda x: x[::-1] == x, li)\n",
    "print(list(result))"
   ]
  },
  {
   "cell_type": "code",
   "execution_count": null,
   "id": "b57fe7ef-4b6c-4a98-9a3d-28a88c182510",
   "metadata": {},
   "outputs": [],
   "source": []
  }
 ],
 "metadata": {
  "kernelspec": {
   "display_name": "Python 3 (ipykernel)",
   "language": "python",
   "name": "python3"
  },
  "language_info": {
   "codemirror_mode": {
    "name": "ipython",
    "version": 3
   },
   "file_extension": ".py",
   "mimetype": "text/x-python",
   "name": "python",
   "nbconvert_exporter": "python",
   "pygments_lexer": "ipython3",
   "version": "3.10.8"
  }
 },
 "nbformat": 4,
 "nbformat_minor": 5
}
